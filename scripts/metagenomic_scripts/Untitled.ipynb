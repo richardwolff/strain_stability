{
 "cells": [
  {
   "cell_type": "code",
   "execution_count": 2,
   "id": "1f27651c",
   "metadata": {},
   "outputs": [],
   "source": [
    "import pandas as pd"
   ]
  },
  {
   "cell_type": "code",
   "execution_count": 3,
   "id": "4a18f4a1",
   "metadata": {},
   "outputs": [],
   "source": [
    "cd = pd.read_pickle(\"metagenomic_data_files/Poyet_collection_dates.pkl\")\n",
    "df = pd.read_csv(\"metagenomic_data_files/Poyet_SRA_report.txt\",sep=\"\\t\",index_col=3)"
   ]
  },
  {
   "cell_type": "code",
   "execution_count": 7,
   "id": "51254e64",
   "metadata": {},
   "outputs": [],
   "source": [
    "hosts = [\"am\",\"an\",\"ae\",\"ao\"]\n",
    "\n",
    "df=pd.read_csv(\"metagenomic_data_files/Poyet_SRA_report.txt\",index_col=0,sep=\"\\t\")\n",
    "df[\"host\"] = [s[0] for s in df[\"sample_alias\"].str.split(\"-\")]\n",
    "\n",
    "df_mg = df.loc[df[\"scientific_name\"] == \"human gut metagenome\"]\n",
    "df_mg = df_mg.loc[df_mg[\"library_strategy\"] == \"WGS\"]\n",
    "\n",
    "df_mg = df_mg.loc[df_mg[\"host\"].isin(hosts)]\n",
    "\n",
    "df_mg.index = df_mg[\"run_accession\"]"
   ]
  },
  {
   "cell_type": "code",
   "execution_count": 8,
   "id": "b7a12cfe",
   "metadata": {},
   "outputs": [],
   "source": [
    "df_mg = df_mg[[\"host\"]]"
   ]
  },
  {
   "cell_type": "code",
   "execution_count": 10,
   "id": "663ab1c4",
   "metadata": {},
   "outputs": [],
   "source": [
    "df_mg[\"collection_date\"] = cd"
   ]
  },
  {
   "cell_type": "code",
   "execution_count": 14,
   "id": "776903d6",
   "metadata": {},
   "outputs": [],
   "source": [
    "df_mg_hosts = df_mg.groupby(\"host\")"
   ]
  },
  {
   "cell_type": "code",
   "execution_count": 21,
   "id": "c3c087af",
   "metadata": {},
   "outputs": [
    {
     "data": {
      "text/html": [
       "<div>\n",
       "<style scoped>\n",
       "    .dataframe tbody tr th:only-of-type {\n",
       "        vertical-align: middle;\n",
       "    }\n",
       "\n",
       "    .dataframe tbody tr th {\n",
       "        vertical-align: top;\n",
       "    }\n",
       "\n",
       "    .dataframe thead th {\n",
       "        text-align: right;\n",
       "    }\n",
       "</style>\n",
       "<table border=\"1\" class=\"dataframe\">\n",
       "  <thead>\n",
       "    <tr style=\"text-align: right;\">\n",
       "      <th></th>\n",
       "      <th>host</th>\n",
       "      <th>collection_date</th>\n",
       "    </tr>\n",
       "    <tr>\n",
       "      <th>run_accession</th>\n",
       "      <th></th>\n",
       "      <th></th>\n",
       "    </tr>\n",
       "  </thead>\n",
       "  <tbody>\n",
       "    <tr>\n",
       "      <th>SRR9224106</th>\n",
       "      <td>am</td>\n",
       "      <td>2016-05-03</td>\n",
       "    </tr>\n",
       "    <tr>\n",
       "      <th>SRR9224173</th>\n",
       "      <td>am</td>\n",
       "      <td>2015-01-08</td>\n",
       "    </tr>\n",
       "    <tr>\n",
       "      <th>SRR9224244</th>\n",
       "      <td>am</td>\n",
       "      <td>2014-12-22</td>\n",
       "    </tr>\n",
       "    <tr>\n",
       "      <th>SRR9224286</th>\n",
       "      <td>am</td>\n",
       "      <td>2015-06-17</td>\n",
       "    </tr>\n",
       "    <tr>\n",
       "      <th>SRR9224312</th>\n",
       "      <td>am</td>\n",
       "      <td>2015-03-18</td>\n",
       "    </tr>\n",
       "    <tr>\n",
       "      <th>SRR9224348</th>\n",
       "      <td>am</td>\n",
       "      <td>2015-11-14</td>\n",
       "    </tr>\n",
       "    <tr>\n",
       "      <th>SRR9224360</th>\n",
       "      <td>am</td>\n",
       "      <td>2014-12-04</td>\n",
       "    </tr>\n",
       "    <tr>\n",
       "      <th>SRR9224366</th>\n",
       "      <td>am</td>\n",
       "      <td>2014-12-10</td>\n",
       "    </tr>\n",
       "    <tr>\n",
       "      <th>SRR9224421</th>\n",
       "      <td>am</td>\n",
       "      <td>2015-06-25</td>\n",
       "    </tr>\n",
       "    <tr>\n",
       "      <th>SRR9224516</th>\n",
       "      <td>am</td>\n",
       "      <td>2015-12-08</td>\n",
       "    </tr>\n",
       "    <tr>\n",
       "      <th>SRR9224524</th>\n",
       "      <td>am</td>\n",
       "      <td>2014-12-16</td>\n",
       "    </tr>\n",
       "    <tr>\n",
       "      <th>SRR9224528</th>\n",
       "      <td>am</td>\n",
       "      <td>2014-12-19</td>\n",
       "    </tr>\n",
       "    <tr>\n",
       "      <th>SRR9224530</th>\n",
       "      <td>am</td>\n",
       "      <td>2014-12-18</td>\n",
       "    </tr>\n",
       "  </tbody>\n",
       "</table>\n",
       "</div>"
      ],
      "text/plain": [
       "              host collection_date\n",
       "run_accession                     \n",
       "SRR9224106      am      2016-05-03\n",
       "SRR9224173      am      2015-01-08\n",
       "SRR9224244      am      2014-12-22\n",
       "SRR9224286      am      2015-06-17\n",
       "SRR9224312      am      2015-03-18\n",
       "SRR9224348      am      2015-11-14\n",
       "SRR9224360      am      2014-12-04\n",
       "SRR9224366      am      2014-12-10\n",
       "SRR9224421      am      2015-06-25\n",
       "SRR9224516      am      2015-12-08\n",
       "SRR9224524      am      2014-12-16\n",
       "SRR9224528      am      2014-12-19\n",
       "SRR9224530      am      2014-12-18"
      ]
     },
     "execution_count": 21,
     "metadata": {},
     "output_type": "execute_result"
    }
   ],
   "source": [
    "df_am = df_mg_hosts.get_group(\"am\")\n",
    "\n",
    "df_am.loc[df_am[\"collection_date\"].duplicated()]"
   ]
  },
  {
   "cell_type": "code",
   "execution_count": null,
   "id": "60742e12",
   "metadata": {},
   "outputs": [],
   "source": []
  }
 ],
 "metadata": {
  "kernelspec": {
   "display_name": "strain_stability_env",
   "language": "python",
   "name": "strain_stability_env"
  },
  "language_info": {
   "codemirror_mode": {
    "name": "ipython",
    "version": 3
   },
   "file_extension": ".py",
   "mimetype": "text/x-python",
   "name": "python",
   "nbconvert_exporter": "python",
   "pygments_lexer": "ipython3",
   "version": "3.8.5"
  }
 },
 "nbformat": 4,
 "nbformat_minor": 5
}
