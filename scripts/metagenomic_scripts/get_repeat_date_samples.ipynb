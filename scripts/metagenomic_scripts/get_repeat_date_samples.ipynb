{
 "cells": [
  {
   "cell_type": "code",
   "execution_count": 2,
   "id": "7c7fcf4a",
   "metadata": {},
   "outputs": [],
   "source": [
    "import pandas as pd"
   ]
  },
  {
   "cell_type": "code",
   "execution_count": 3,
   "id": "5e302fc1",
   "metadata": {},
   "outputs": [],
   "source": [
    "cd = pd.read_pickle(\"metagenomic_data_files/Poyet_collection_dates.pkl\")\n",
    "df = pd.read_csv(\"metagenomic_data_files/Poyet_SRA_report.txt\",sep=\"\\t\",index_col=3)"
   ]
  },
  {
   "cell_type": "code",
   "execution_count": 7,
   "id": "c4a8393a",
   "metadata": {},
   "outputs": [],
   "source": [
    "hosts = [\"am\",\"an\",\"ae\",\"ao\"]\n",
    "\n",
    "df=pd.read_csv(\"metagenomic_data_files/Poyet_SRA_report.txt\",index_col=0,sep=\"\\t\")\n",
    "df[\"host\"] = [s[0] for s in df[\"sample_alias\"].str.split(\"-\")]\n",
    "\n",
    "df_mg = df.loc[df[\"scientific_name\"] == \"human gut metagenome\"]\n",
    "df_mg = df_mg.loc[df_mg[\"library_strategy\"] == \"WGS\"]\n",
    "\n",
    "df_mg = df_mg.loc[df_mg[\"host\"].isin(hosts)]\n",
    "\n",
    "df_mg.index = df_mg[\"run_accession\"]"
   ]
  },
  {
   "cell_type": "code",
   "execution_count": 8,
   "id": "793127a0",
   "metadata": {},
   "outputs": [],
   "source": [
    "df_mg = df_mg[[\"host\"]]"
   ]
  },
  {
   "cell_type": "code",
   "execution_count": 10,
   "id": "e81cbb06",
   "metadata": {},
   "outputs": [],
   "source": [
    "df_mg[\"collection_date\"] = cd"
   ]
  },
  {
   "cell_type": "code",
   "execution_count": 14,
   "id": "d4b14ff7",
   "metadata": {},
   "outputs": [],
   "source": [
    "df_mg_hosts = df_mg.groupby(\"host\")"
   ]
  },
  {
   "cell_type": "code",
   "execution_count": 31,
   "id": "8908ce61",
   "metadata": {},
   "outputs": [],
   "source": [
    "repeat_dic = {}\n",
    "for host in hosts:\n",
    "\n",
    "    df_am = df_mg_hosts.get_group(host)\n",
    "    \n",
    "    repeat_dic[host] = df_am.loc[df_am[\"collection_date\"].duplicated(keep=False)].groupby(\"collection_date\").groups"
   ]
  },
  {
   "cell_type": "code",
   "execution_count": 35,
   "id": "4f78e033",
   "metadata": {},
   "outputs": [],
   "source": [
    "pd.Series(repeat_dic).to_pickle(\"metagenomic_data_files/Poyet_repeat_day_samples.pkl\")"
   ]
  },
  {
   "cell_type": "code",
   "execution_count": null,
   "id": "ea14b7ea",
   "metadata": {},
   "outputs": [],
   "source": []
  }
 ],
 "metadata": {
  "kernelspec": {
   "display_name": "strain_stability_env",
   "language": "python",
   "name": "strain_stability_env"
  },
  "language_info": {
   "codemirror_mode": {
    "name": "ipython",
    "version": 3
   },
   "file_extension": ".py",
   "mimetype": "text/x-python",
   "name": "python",
   "nbconvert_exporter": "python",
   "pygments_lexer": "ipython3",
   "version": "3.8.5"
  }
 },
 "nbformat": 4,
 "nbformat_minor": 5
}
