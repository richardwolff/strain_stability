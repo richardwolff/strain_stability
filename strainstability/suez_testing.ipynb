{
 "cells": [
  {
   "cell_type": "code",
   "execution_count": 1,
   "id": "32c27030",
   "metadata": {},
   "outputs": [],
   "source": [
    "import config\n",
    "import pandas as pd\n",
    "import matplotlib.pyplot as plt"
   ]
  },
  {
   "cell_type": "code",
   "execution_count": 2,
   "id": "c4b6fbfd",
   "metadata": {},
   "outputs": [],
   "source": [
    "suez_dir = config.suez_dir"
   ]
  },
  {
   "cell_type": "code",
   "execution_count": 3,
   "id": "bf06f3e6",
   "metadata": {},
   "outputs": [],
   "source": [
    "df_reads = pd.read_csv(\"filereport_read_run_PRJEB28097_tsv.txt\",sep=\"\\t\",index_col=3)"
   ]
  },
  {
   "cell_type": "code",
   "execution_count": 5,
   "id": "316409e3",
   "metadata": {},
   "outputs": [],
   "source": [
    "df = pd.read_csv(\"%sUpdated_Suez_Study_Human.txt\" % suez_dir,index_col=2,sep=\"\\t\")\n",
    "df[\"read_count\"] = df_reads[\"read_count\"]\n",
    "df = df.loc[df[\"Tissue\"] == \"Stool\"]\n",
    "df[\"Stage\"] = [s[s.find(\"(\")+1:s.find(\")\")] for s in df[\"Description\"].values]\n",
    "#df = df.loc[df[\"Group\"] == 'spontaneous reconstitution group - after watchful waiting']"
   ]
  },
  {
   "cell_type": "code",
   "execution_count": null,
   "id": "0579e2c6",
   "metadata": {},
   "outputs": [],
   "source": [
    "df.to_csv(\"Suez_metadata.csv\",sep=\"\\t\")"
   ]
  },
  {
   "cell_type": "code",
   "execution_count": 6,
   "id": "2c9665c3",
   "metadata": {},
   "outputs": [],
   "source": [
    "df_ind = df.groupby(\"Individual\")"
   ]
  },
  {
   "cell_type": "code",
   "execution_count": null,
   "id": "1ac1a194",
   "metadata": {},
   "outputs": [],
   "source": [
    "pd.Series(df_ind.groups.keys()).to_csv(\"metadata/Suez_hosts.csv\",index=None,header=None)"
   ]
  },
  {
   "cell_type": "code",
   "execution_count": 7,
   "id": "1cb1a6ab",
   "metadata": {},
   "outputs": [
    {
     "data": {
      "text/plain": [
       "dict_keys([10, 11, 12, 13, 14, 15, 16, 17, 18, 19, 26, 27, 28, 29, 30, 31, 32, 33, 34, 35, 36, 37, 38, 39, 40, 41, 42, 43, 44, 45, 46, 47, 48, 49, 50])"
      ]
     },
     "execution_count": 7,
     "metadata": {},
     "output_type": "execute_result"
    }
   ],
   "source": [
    "df_ind.groups.keys()"
   ]
  },
  {
   "cell_type": "code",
   "execution_count": 9,
   "id": "d1c56601",
   "metadata": {},
   "outputs": [],
   "source": [
    "host_sample_dic={i: df_ind.get_group(i).index for i in df_ind.groups.keys()}"
   ]
  },
  {
   "cell_type": "code",
   "execution_count": 15,
   "id": "06724f65",
   "metadata": {},
   "outputs": [],
   "source": [
    "for host in host_sample_dic.keys():\n",
    "    pd.Series(host_sample_dic[host]).to_csv(f\"metadata/host_samples/suez_{host}.txt\",index=None,header=None)"
   ]
  },
  {
   "cell_type": "code",
   "execution_count": null,
   "id": "dbd75303",
   "metadata": {},
   "outputs": [],
   "source": [
    "df_ind.groups.keys()"
   ]
  },
  {
   "cell_type": "code",
   "execution_count": null,
   "id": "3522516a",
   "metadata": {},
   "outputs": [],
   "source": [
    "plt.hist(df[\"read_count\"].values); "
   ]
  },
  {
   "cell_type": "code",
   "execution_count": null,
   "id": "f29a0111",
   "metadata": {},
   "outputs": [],
   "source": [
    "num_samples = {}\n",
    "for grp in df_ind.groups.keys():\n",
    "    if grp[1] == \"naive\":\n",
    "        num_samples[grp[0]] = [df_ind.get_group(grp).shape[0],df_ind.get_group(grp)[\"read_count\"].mean()]"
   ]
  },
  {
   "cell_type": "code",
   "execution_count": null,
   "id": "2dfff25d",
   "metadata": {},
   "outputs": [],
   "source": [
    "df_ind = df.groupby([\"Individual\",\"Stage\"])"
   ]
  },
  {
   "cell_type": "code",
   "execution_count": null,
   "id": "0c701ee1",
   "metadata": {},
   "outputs": [],
   "source": [
    "df_ind = df.groupby([\"Individual\"])"
   ]
  },
  {
   "cell_type": "code",
   "execution_count": null,
   "id": "3b657f49",
   "metadata": {},
   "outputs": [],
   "source": [
    "df_ind.groups.keys()"
   ]
  },
  {
   "cell_type": "code",
   "execution_count": null,
   "id": "e13be881",
   "metadata": {},
   "outputs": [],
   "source": [
    "species = \"Bacteroides_vulgatus_57955\""
   ]
  },
  {
   "cell_type": "code",
   "execution_count": null,
   "id": "e891bc5d",
   "metadata": {},
   "outputs": [],
   "source": [
    "suez_snps_dir = config.suez_snps_dir"
   ]
  },
  {
   "cell_type": "code",
   "execution_count": null,
   "id": "8272434c",
   "metadata": {},
   "outputs": [],
   "source": [
    "min_depth = 10"
   ]
  },
  {
   "cell_type": "code",
   "execution_count": null,
   "id": "82261f7b",
   "metadata": {},
   "outputs": [],
   "source": [
    "host_inds = df_ind.get_group((12)).index"
   ]
  },
  {
   "cell_type": "code",
   "execution_count": null,
   "id": "c7a4b5bc",
   "metadata": {},
   "outputs": [],
   "source": [
    "df_rf = pd.read_csv(\"%s/%s/snps_ref_freq.txt\" % (suez_snps_dir,species),sep=\"\\t\", low_memory = True,iterator=True,index_col=0)\n",
    "df_depth = pd.read_csv(\"%s/%s/snps_depth.txt\" % (suez_snps_dir,species),sep=\"\\t\", low_memory = True,iterator=True,index_col=0)"
   ]
  },
  {
   "cell_type": "code",
   "execution_count": null,
   "id": "453b16c6",
   "metadata": {},
   "outputs": [],
   "source": [
    "df_rf_chunk = df_rf.get_chunk(10000)[host_inds]\n",
    "df_depth_chunk = df_depth.get_chunk(10000)[host_inds]\n",
    "(df_rf_chunk*(df_depth_chunk.mask(df_depth_chunk < min_depth))/df_depth_chunk).T.plot(legend=None,alpha=.3);"
   ]
  },
  {
   "cell_type": "code",
   "execution_count": null,
   "id": "494dde32",
   "metadata": {},
   "outputs": [],
   "source": [
    "(df_rf_chunk*(df_depth_chunk.mask(df_depth_chunk < min_depth))/df_depth_chunk)"
   ]
  },
  {
   "cell_type": "code",
   "execution_count": null,
   "id": "679d5b14",
   "metadata": {},
   "outputs": [],
   "source": []
  },
  {
   "cell_type": "code",
   "execution_count": null,
   "id": "7adb67b4",
   "metadata": {},
   "outputs": [],
   "source": []
  }
 ],
 "metadata": {
  "kernelspec": {
   "display_name": "Python 3 (ipykernel)",
   "language": "python",
   "name": "python3"
  },
  "language_info": {
   "codemirror_mode": {
    "name": "ipython",
    "version": 3
   },
   "file_extension": ".py",
   "mimetype": "text/x-python",
   "name": "python",
   "nbconvert_exporter": "python",
   "pygments_lexer": "ipython3",
   "version": "3.9.6"
  }
 },
 "nbformat": 4,
 "nbformat_minor": 5
}
