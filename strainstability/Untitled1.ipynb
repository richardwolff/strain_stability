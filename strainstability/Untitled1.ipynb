{
 "cells": [
  {
   "cell_type": "code",
   "execution_count": 1,
   "id": "6ffe23e5",
   "metadata": {},
   "outputs": [],
   "source": [
    "import sys"
   ]
  },
  {
   "cell_type": "code",
   "execution_count": 2,
   "id": "65af3a6f",
   "metadata": {},
   "outputs": [
    {
     "data": {
      "text/plain": [
       "['/u/home/r/rwolff/strain_stability_revisions/strainstability',\n",
       " '/u/local/apps/anaconda3/2020.11/lib/python38.zip',\n",
       " '/u/local/apps/anaconda3/2020.11/lib/python3.8',\n",
       " '/u/local/apps/anaconda3/2020.11/lib/python3.8/lib-dynload',\n",
       " '',\n",
       " '/u/local/apps/anaconda3/2020.11/lib/python3.8/site-packages',\n",
       " '/u/local/apps/anaconda3/2020.11/lib/python3.8/site-packages/IPython/extensions',\n",
       " '/u/home/r/rwolff/.ipython']"
      ]
     },
     "execution_count": 2,
     "metadata": {},
     "output_type": "execute_result"
    }
   ],
   "source": [
    "sys.path"
   ]
  },
  {
   "cell_type": "code",
   "execution_count": null,
   "id": "a3eb3efa",
   "metadata": {},
   "outputs": [],
   "source": []
  }
 ],
 "metadata": {
  "kernelspec": {
   "display_name": "strain_stability_env",
   "language": "python",
   "name": "strain_stability_env"
  },
  "language_info": {
   "codemirror_mode": {
    "name": "ipython",
    "version": 3
   },
   "file_extension": ".py",
   "mimetype": "text/x-python",
   "name": "python",
   "nbconvert_exporter": "python",
   "pygments_lexer": "ipython3",
   "version": "3.8.5"
  }
 },
 "nbformat": 4,
 "nbformat_minor": 5
}
