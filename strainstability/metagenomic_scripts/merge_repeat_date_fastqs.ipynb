{
 "cells": [
  {
   "cell_type": "code",
   "execution_count": 1,
   "id": "8d44ce60",
   "metadata": {},
   "outputs": [],
   "source": [
    "import os\n",
    "import pandas as pd"
   ]
  },
  {
   "cell_type": "code",
   "execution_count": 2,
   "id": "219fbe06",
   "metadata": {},
   "outputs": [],
   "source": [
    "fastq_dir = \"/u/scratch/r/rwolff/Poyet_fastq_files/\"\n",
    "rd = pd.read_pickle(\"metagenomic_data_files/Poyet_repeat_day_samples.pkl\")\n",
    "hosts = [\"am\",\"an\",\"ae\",\"ao\"]"
   ]
  },
  {
   "cell_type": "markdown",
   "id": "767d46ee",
   "metadata": {},
   "source": [
    "This step merges the fastq's that were collected on the same day from the same host"
   ]
  },
  {
   "cell_type": "code",
   "execution_count": 3,
   "id": "233fabd3",
   "metadata": {},
   "outputs": [
    {
     "name": "stdout",
     "output_type": "stream",
     "text": [
      "am\n",
      "an\n",
      "ae\n",
      "ao\n"
     ]
    }
   ],
   "source": [
    "for host in hosts:\n",
    "    print(host)\n",
    "    for date in rd[host].values():\n",
    "        for f in date:\n",
    "            for ind in [1,2]:\n",
    "                os.system(f\"cat {fastq_dir}{f}_{ind}.fastq.gz >> {fastq_dir}{date[0]}c_{str(ind)}.fastq.gz\")"
   ]
  },
  {
   "cell_type": "code",
   "execution_count": 7,
   "id": "0de47e15",
   "metadata": {},
   "outputs": [],
   "source": [
    "df=pd.read_csv(\"metagenomic_data_files/Poyet_SRA_report.txt\",index_col=0,sep=\"\\t\")\n",
    "df[\"host\"] = [s[0] for s in df[\"sample_alias\"].str.split(\"-\")]\n",
    "\n",
    "df_mg = df.loc[df[\"scientific_name\"] == \"human gut metagenome\"]\n",
    "df_mg = df_mg.loc[df_mg[\"library_strategy\"] == \"WGS\"]\n",
    "\n",
    "df_mg = df_mg.loc[df_mg[\"host\"].isin(hosts)]\n",
    "\n",
    "df_mg.index = df_mg[\"run_accession\"]\n",
    "\n",
    "cd = pd.read_pickle(\"metagenomic_data_files/Poyet_collection_dates.pkl\")"
   ]
  },
  {
   "cell_type": "code",
   "execution_count": 8,
   "id": "bb93179c",
   "metadata": {},
   "outputs": [],
   "source": [
    "df_mg[\"collection_date\"] = cd"
   ]
  },
  {
   "cell_type": "markdown",
   "id": "4d75acae",
   "metadata": {},
   "source": [
    "Create new metadata document with merged samples"
   ]
  },
  {
   "cell_type": "code",
   "execution_count": 10,
   "id": "0542babe",
   "metadata": {},
   "outputs": [],
   "source": [
    "for host in hosts:\n",
    "    for tobe_merged in rd[host].values():\n",
    "        df_mg_merged = df_mg.loc[tobe_merged]\n",
    "        df_mg.loc[f\"{tobe_merged[0]}c\"] = df_mg_merged.sum()\n",
    "\n",
    "        df_mg.loc[f\"{tobe_merged[0]}c\",\"sample_accession\"] = \" \".join(df_mg.loc[tobe_merged,\"sample_accession\"].values)\n",
    "        df_mg.loc[f\"{tobe_merged[0]}c\",\"run_accession\"] = \" \".join(df_mg.loc[tobe_merged,\"run_accession\"].values)\n",
    "        df_mg.loc[f\"{tobe_merged[0]}c\",\"sample_alias\"] = \" \".join(df_mg.loc[tobe_merged,\"sample_alias\"].values)\n",
    "        df_mg.loc[f\"{tobe_merged[0]}c\",\"sra_ftp\"] = \" \".join(df_mg.loc[tobe_merged,\"sra_ftp\"].values)\n",
    "        df_mg.loc[f\"{tobe_merged[0]}c\",\"fastq_ftp\"] = \" \".join(df_mg.loc[tobe_merged,\"fastq_ftp\"].values)\n",
    "\n",
    "        df_mg.loc[f\"{tobe_merged[0]}c\",\"tax_id\"] = df_mg.loc[tobe_merged,\"tax_id\"].values[0]\n",
    "        df_mg.loc[f\"{tobe_merged[0]}c\",\"scientific_name\"] = df_mg.loc[tobe_merged,\"scientific_name\"].values[0]\n",
    "        df_mg.loc[f\"{tobe_merged[0]}c\",\"library_strategy\"] = df_mg.loc[tobe_merged,\"library_strategy\"].values[0]\n",
    "        df_mg.loc[f\"{tobe_merged[0]}c\",\"host\"] = df_mg.loc[tobe_merged,\"host\"].values[0]\n",
    "        df_mg.loc[f\"{tobe_merged[0]}c\",\"collection_date\"] = df_mg.loc[tobe_merged,\"collection_date\"].values[0]\n",
    "        df_mg.loc[f\"{tobe_merged[0]}c\",\"experiment_accession\"] = df_mg.loc[tobe_merged,\"experiment_accession\"].values[0]\n",
    "\n",
    "        df_mg = df_mg.drop(tobe_merged)"
   ]
  },
  {
   "cell_type": "code",
   "execution_count": 11,
   "id": "d0103040",
   "metadata": {},
   "outputs": [],
   "source": [
    "df_mg[\"collection_date\"] = pd.to_datetime(df_mg[\"collection_date\"])"
   ]
  },
  {
   "cell_type": "code",
   "execution_count": 12,
   "id": "1d75032f",
   "metadata": {},
   "outputs": [],
   "source": [
    "df_mg = df_mg.sort_values([\"host\",\"collection_date\"])"
   ]
  },
  {
   "cell_type": "code",
   "execution_count": 13,
   "id": "abab8d04",
   "metadata": {},
   "outputs": [],
   "source": [
    "df_mg.to_csv(\"metagenomic_data_files/Poyet_sample_metadata.csv\",sep=\"\\t\")"
   ]
  },
  {
   "cell_type": "code",
   "execution_count": 14,
   "id": "5625528b",
   "metadata": {},
   "outputs": [],
   "source": [
    "pd.Series(df_mg.groupby(\"host\").groups[\"ae\"]).to_csv(\"metagenomic_data_files/ae_samples.txt\",sep=\"\\n\",index=None,header=None)"
   ]
  },
  {
   "cell_type": "code",
   "execution_count": 15,
   "id": "0fc40b1a",
   "metadata": {},
   "outputs": [],
   "source": [
    "pd.Series(df_mg.groupby(\"host\").groups[\"am\"]).to_csv(\"metagenomic_data_files/am_samples.txt\",sep=\"\\n\",index=None,header=None)"
   ]
  },
  {
   "cell_type": "code",
   "execution_count": 16,
   "id": "7b0738a1",
   "metadata": {},
   "outputs": [],
   "source": [
    "pd.Series(df_mg.groupby(\"host\").groups[\"ao\"]).to_csv(\"metagenomic_data_files/ao_samples.txt\",sep=\"\\n\",index=None,header=None)"
   ]
  },
  {
   "cell_type": "code",
   "execution_count": 17,
   "id": "84ec54ac",
   "metadata": {},
   "outputs": [],
   "source": [
    "pd.Series(df_mg.groupby(\"host\").groups[\"an\"]).to_csv(\"metagenomic_data_files/an_samples.txt\",sep=\"\\n\",index=None,header=None)"
   ]
  },
  {
   "cell_type": "code",
   "execution_count": 21,
   "id": "e05f22b6",
   "metadata": {},
   "outputs": [
    {
     "data": {
      "text/plain": [
       "sample_accession                                SAMN11950361 SAMN11950362\n",
       "experiment_accession                                           SRX5994824\n",
       "run_accession                                       SRR9224019 SRR9224022\n",
       "tax_id                                                             408170\n",
       "scientific_name                                      human gut metagenome\n",
       "library_strategy                                                      WGS\n",
       "read_count                                                       10906280\n",
       "base_count                                                     2078765697\n",
       "fastq_ftp               ftp.sra.ebi.ac.uk/vol1/fastq/SRR922/009/SRR922...\n",
       "submitted_ftp                                                           0\n",
       "submitted_format                                                        0\n",
       "sra_ftp                 ftp.sra.ebi.ac.uk/vol1/srr/SRR922/009/SRR92240...\n",
       "sample_alias                                        ao-0014_MG ao-0015_MG\n",
       "host                                                                   ao\n",
       "collection_date                                       2015-01-08 00:00:00\n",
       "Name: SRR9224019c, dtype: object"
      ]
     },
     "execution_count": 21,
     "metadata": {},
     "output_type": "execute_result"
    }
   ],
   "source": [
    "df_mg.loc[\"SRR9224019c\"]"
   ]
  },
  {
   "cell_type": "code",
   "execution_count": null,
   "id": "4e76916b",
   "metadata": {},
   "outputs": [],
   "source": []
  }
 ],
 "metadata": {
  "kernelspec": {
   "display_name": "strain_stability_env",
   "language": "python",
   "name": "strain_stability_env"
  },
  "language_info": {
   "codemirror_mode": {
    "name": "ipython",
    "version": 3
   },
   "file_extension": ".py",
   "mimetype": "text/x-python",
   "name": "python",
   "nbconvert_exporter": "python",
   "pygments_lexer": "ipython3",
   "version": "3.8.5"
  }
 },
 "nbformat": 4,
 "nbformat_minor": 5
}
