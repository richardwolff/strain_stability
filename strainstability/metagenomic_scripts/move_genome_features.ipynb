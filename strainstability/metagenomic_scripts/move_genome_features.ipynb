{
 "cells": [
  {
   "cell_type": "code",
   "execution_count": 1,
   "id": "bc6d6b1b",
   "metadata": {},
   "outputs": [],
   "source": [
    "import pandas as pd\n",
    "import os\n",
    "import shutil"
   ]
  },
  {
   "cell_type": "code",
   "execution_count": 10,
   "id": "bf57d80e",
   "metadata": {},
   "outputs": [],
   "source": [
    "host = \"an\"\n",
    "isolate_dir = \"/u/project/ngarud/rwolff/midas_isolate_db\"\n",
    "mapfile = pd.read_csv(\"%s/%s.mapfile\" % (isolate_dir,host),index_col=0,sep=\"\\t\")"
   ]
  },
  {
   "cell_type": "code",
   "execution_count": 11,
   "id": "6a9b51a1",
   "metadata": {},
   "outputs": [],
   "source": [
    "rep_genomes = mapfile[mapfile[\"rep_genome\"] == 1]"
   ]
  },
  {
   "cell_type": "code",
   "execution_count": 12,
   "id": "73483493",
   "metadata": {},
   "outputs": [],
   "source": [
    "built_dir = \"/u/project/ngarud/rwolff/midas_isolate_db_built/%s/rep_genomes/\" % host "
   ]
  },
  {
   "cell_type": "code",
   "execution_count": 13,
   "id": "dea8bf51",
   "metadata": {},
   "outputs": [
    {
     "name": "stdout",
     "output_type": "stream",
     "text": [
      "Enterococcus_hirae\n",
      "Escherichia_coli\n",
      "Bifidobacterium_adolescentis\n",
      "Bacteroides_xylanisolvens\n",
      "Lactobacillus_ruminis\n"
     ]
    }
   ],
   "source": [
    "for genome_id in rep_genomes.index:\n",
    "    species_id = rep_genomes.loc[genome_id,\"species_id\"]\n",
    "    \n",
    "    shutil.copy(\"%s/%s/%s/%s.genes\" % (isolate_dir,host,genome_id,genome_id), \n",
    "               \"%s/%s/genome.features\" % (built_dir,species_id))\n",
    "    \n",
    "    print(species_id)"
   ]
  },
  {
   "cell_type": "code",
   "execution_count": null,
   "id": "75eb1079",
   "metadata": {},
   "outputs": [],
   "source": []
  }
 ],
 "metadata": {
  "kernelspec": {
   "display_name": "strain_stability_env",
   "language": "python",
   "name": "strain_stability_env"
  },
  "language_info": {
   "codemirror_mode": {
    "name": "ipython",
    "version": 3
   },
   "file_extension": ".py",
   "mimetype": "text/x-python",
   "name": "python",
   "nbconvert_exporter": "python",
   "pygments_lexer": "ipython3",
   "version": "3.8.5"
  }
 },
 "nbformat": 4,
 "nbformat_minor": 5
}
