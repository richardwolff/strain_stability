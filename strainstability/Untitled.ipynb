{
 "cells": [
  {
   "cell_type": "code",
   "execution_count": 1,
   "id": "d718ce50",
   "metadata": {},
   "outputs": [],
   "source": [
    "import pandas as pd\n",
    "import matplotlib.pyplot as plt\n",
    "import numpy as np"
   ]
  },
  {
   "cell_type": "code",
   "execution_count": 4,
   "id": "0618ab7d",
   "metadata": {},
   "outputs": [],
   "source": [
    "host = \"ao\"\n",
    "sample = \"SRR9224487\"\n",
    "species = \"Bacteroides_ovatus\""
   ]
  },
  {
   "cell_type": "code",
   "execution_count": 5,
   "id": "4f810994",
   "metadata": {},
   "outputs": [],
   "source": [
    "file = \"/u/scratch/r/rwolff/Poyet_midas_output/midas_files/%s/%s/snps/output/%s.snps.gz\" % (host,sample,species)\n",
    "reader = pd.read_csv(file, iterator=True,sep=\"\\t\")"
   ]
  },
  {
   "cell_type": "code",
   "execution_count": 6,
   "id": "976258f1",
   "metadata": {},
   "outputs": [],
   "source": [
    "r=reader.get_chunk(6000000)"
   ]
  },
  {
   "cell_type": "code",
   "execution_count": 7,
   "id": "853a9950",
   "metadata": {},
   "outputs": [],
   "source": [
    "df=r[r.columns[-4:]]"
   ]
  },
  {
   "cell_type": "code",
   "execution_count": 8,
   "id": "48754139",
   "metadata": {},
   "outputs": [],
   "source": [
    "df_x = df.loc[df.T.sum() > 40]"
   ]
  },
  {
   "cell_type": "code",
   "execution_count": 9,
   "id": "05d335a1",
   "metadata": {},
   "outputs": [],
   "source": [
    "y=df_x.T.max()/df_x.T.sum()"
   ]
  },
  {
   "cell_type": "code",
   "execution_count": 10,
   "id": "2ed86794",
   "metadata": {},
   "outputs": [],
   "source": [
    "pi=((y.values)*(1-y.values)).mean()"
   ]
  },
  {
   "cell_type": "code",
   "execution_count": 11,
   "id": "b2f78965",
   "metadata": {},
   "outputs": [
    {
     "data": {
      "text/plain": [
       "0.00038622169625989535"
      ]
     },
     "execution_count": 11,
     "metadata": {},
     "output_type": "execute_result"
    }
   ],
   "source": [
    "pi"
   ]
  },
  {
   "cell_type": "code",
   "execution_count": 12,
   "id": "53296a4c",
   "metadata": {},
   "outputs": [],
   "source": [
    "logbins = np.logspace(-4,0,30)\n",
    "logbins = np.insert(logbins,0,0)"
   ]
  },
  {
   "cell_type": "code",
   "execution_count": 13,
   "id": "eee46734",
   "metadata": {},
   "outputs": [
    {
     "data": {
      "text/plain": [
       "Text(0, 0.5, 'Density')"
      ]
     },
     "execution_count": 13,
     "metadata": {},
     "output_type": "execute_result"
    },
    {
     "data": {
      "image/png": "[encoded data removed]",
      "text/plain": [
       "<Figure size 864x576 with 1 Axes>"
      ]
     },
     "metadata": {
      "needs_background": "light"
     },
     "output_type": "display_data"
    }
   ],
   "source": [
    "fig,ax = plt.subplots(figsize=(12,8))\n",
    "ax.hist(1-y[y>0].values,bins=logbins,density=True);\n",
    "#ax.hist(1-y[y>0].values,bins=np.linspace(0,1,30),density=True);\n",
    "\n",
    "ax.grid(True)\n",
    "\n",
    "ax.semilogx();\n",
    "ax.semilogy()\n",
    "#ax.set_ylim(1e-2,1e0)\n",
    "ax.set_xlim([1e-3,1e0]);\n",
    "\n",
    "ax.set_xlabel(\"Alt allele freq\",size=20)\n",
    "ax.set_ylabel(\"Density\",size=20)"
   ]
  },
  {
   "cell_type": "code",
   "execution_count": 14,
   "id": "1be27d50",
   "metadata": {},
   "outputs": [],
   "source": [
    "file = \"/u/scratch/r/rwolff/Poyet_midas_output/midas_files/%s/%s/genes/output/%s.genes.gz\" % (host,sample,species)\n",
    "reader = pd.read_csv(file, iterator=True,sep=\"\\t\")"
   ]
  },
  {
   "cell_type": "code",
   "execution_count": 15,
   "id": "d3b5e082",
   "metadata": {},
   "outputs": [],
   "source": [
    "g=reader.get_chunk(100000)"
   ]
  },
  {
   "cell_type": "code",
   "execution_count": 16,
   "id": "dc822e1b",
   "metadata": {},
   "outputs": [
    {
     "data": {
      "text/plain": [
       "[]"
      ]
     },
     "execution_count": 16,
     "metadata": {},
     "output_type": "execute_result"
    },
    {
     "data": {
      "image/png": "[encoded data removed]",
      "text/plain": [
       "<Figure size 864x576 with 1 Axes>"
      ]
     },
     "metadata": {
      "needs_background": "light"
     },
     "output_type": "display_data"
    }
   ],
   "source": [
    "fig,ax = plt.subplots(figsize=(12,8))\n",
    "ax.hist(g[\"copy_number\"],bins=np.logspace(-5,1,100),density=True);\n",
    "ax.grid(True)\n",
    "\n",
    "ax.axvspan(0.6, 1.2, alpha=0.5, color='grey')\n",
    "\n",
    "ax.set_xlim([1e-1,1e1])\n",
    "\n",
    "ax.set_xlabel(\"Midas inferred copy number c\",size=20)\n",
    "ax.set_ylabel(\"Density\",size=20)\n",
    "ax.semilogx()\n",
    "ax.semilogy()"
   ]
  },
  {
   "cell_type": "code",
   "execution_count": null,
   "id": "ac848648",
   "metadata": {},
   "outputs": [],
   "source": []
  }
 ],
 "metadata": {
  "kernelspec": {
   "display_name": "strain_stability_env",
   "language": "python",
   "name": "strain_stability_env"
  },
  "language_info": {
   "codemirror_mode": {
    "name": "ipython",
    "version": 3
   },
   "file_extension": ".py",
   "mimetype": "text/x-python",
   "name": "python",
   "nbconvert_exporter": "python",
   "pygments_lexer": "ipython3",
   "version": "3.8.5"
  }
 },
 "nbformat": 4,
 "nbformat_minor": 5
}
