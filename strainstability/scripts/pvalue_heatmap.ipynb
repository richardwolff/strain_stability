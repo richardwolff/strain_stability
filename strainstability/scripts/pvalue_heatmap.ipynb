{
 "cells": [
  {
   "cell_type": "code",
   "execution_count": 31,
   "id": "9bee9424",
   "metadata": {},
   "outputs": [],
   "source": [
    "import config\n",
    "\n",
    "import pandas as pd\n",
    "import matplotlib.pyplot as plt\n",
    "\n",
    "import seaborn as sns\n",
    "import numpy as np\n",
    "import figure_utils\n",
    "cohort = \"Poyet\"\n"
   ]
  },
  {
   "cell_type": "code",
   "execution_count": 137,
   "id": "33d436fd",
   "metadata": {},
   "outputs": [],
   "source": [
    "pass_ = 0\n",
    "all_ = 0\n",
    "for host in [\"am\",\"ao\",\"an\",\"ae\"]:\n",
    "    df = pd.read_csv(\"%s/chisq/%s/%s_strain_chisq_test_cross.txt\" % (config.analysis_directory,cohort,host),header=None,index_col=0)\n",
    "    pass_ +=(df[1] > .05).sum()\n",
    "    all_ += df[1].shape[0]"
   ]
  },
  {
   "cell_type": "code",
   "execution_count": 142,
   "id": "19a1f6fa",
   "metadata": {},
   "outputs": [],
   "source": [
    "host = \"an\"\n",
    "df = pd.read_csv(\"%s/chisq/%s/%s_strain_chisq_test_cross.txt\" % (config.analysis_directory,cohort,host),header=None,index_col=0)\n",
    "df_species = pd.read_csv(\"%s/chisq/%s/%s_species_chisq_test.txt\" % (config.analysis_directory,cohort,host),header=None,index_col=0)"
   ]
  },
  {
   "cell_type": "code",
   "execution_count": 143,
   "id": "dc579b98",
   "metadata": {},
   "outputs": [
    {
     "data": {
      "text/html": [
       "<div>\n",
       "<style scoped>\n",
       "    .dataframe tbody tr th:only-of-type {\n",
       "        vertical-align: middle;\n",
       "    }\n",
       "\n",
       "    .dataframe tbody tr th {\n",
       "        vertical-align: top;\n",
       "    }\n",
       "\n",
       "    .dataframe thead th {\n",
       "        text-align: right;\n",
       "    }\n",
       "</style>\n",
       "<table border=\"1\" class=\"dataframe\">\n",
       "  <thead>\n",
       "    <tr style=\"text-align: right;\">\n",
       "      <th></th>\n",
       "      <th>1</th>\n",
       "    </tr>\n",
       "    <tr>\n",
       "      <th>0</th>\n",
       "      <th></th>\n",
       "    </tr>\n",
       "  </thead>\n",
       "  <tbody>\n",
       "    <tr>\n",
       "      <th>Bacteroides_clarus_62282_A</th>\n",
       "      <td>1.261116e-03</td>\n",
       "    </tr>\n",
       "    <tr>\n",
       "      <th>Bacteroides_massiliensis_44749_A</th>\n",
       "      <td>6.114221e-11</td>\n",
       "    </tr>\n",
       "    <tr>\n",
       "      <th>Bacteroides_uniformis_57318_A</th>\n",
       "      <td>2.869884e-01</td>\n",
       "    </tr>\n",
       "    <tr>\n",
       "      <th>Bacteroides_uniformis_57318_B</th>\n",
       "      <td>2.682367e-03</td>\n",
       "    </tr>\n",
       "    <tr>\n",
       "      <th>Bacteroides_vulgatus_57955_A</th>\n",
       "      <td>5.290913e-04</td>\n",
       "    </tr>\n",
       "    <tr>\n",
       "      <th>Bacteroides_vulgatus_57955_B</th>\n",
       "      <td>1.625722e-01</td>\n",
       "    </tr>\n",
       "    <tr>\n",
       "      <th>Bacteroides_vulgatus_57955_C</th>\n",
       "      <td>5.005885e-01</td>\n",
       "    </tr>\n",
       "    <tr>\n",
       "      <th>Bacteroides_xylanisolvens_57185_A</th>\n",
       "      <td>5.813012e-02</td>\n",
       "    </tr>\n",
       "    <tr>\n",
       "      <th>Barnesiella_intestinihominis_62208_A</th>\n",
       "      <td>7.128718e-02</td>\n",
       "    </tr>\n",
       "    <tr>\n",
       "      <th>Eubacterium_rectale_56927_A</th>\n",
       "      <td>3.039126e-01</td>\n",
       "    </tr>\n",
       "    <tr>\n",
       "      <th>Eubacterium_rectale_56927_B</th>\n",
       "      <td>6.860360e-01</td>\n",
       "    </tr>\n",
       "    <tr>\n",
       "      <th>Paraprevotella_clara_33712_A</th>\n",
       "      <td>3.421500e-01</td>\n",
       "    </tr>\n",
       "    <tr>\n",
       "      <th>Ruminococcus_bromii_62047_A</th>\n",
       "      <td>2.650259e-01</td>\n",
       "    </tr>\n",
       "    <tr>\n",
       "      <th>Sutterella_wadsworthensis_56828_A</th>\n",
       "      <td>1.533427e-01</td>\n",
       "    </tr>\n",
       "    <tr>\n",
       "      <th>Sutterella_wadsworthensis_56828_B</th>\n",
       "      <td>1.997530e-01</td>\n",
       "    </tr>\n",
       "  </tbody>\n",
       "</table>\n",
       "</div>"
      ],
      "text/plain": [
       "                                                 1\n",
       "0                                                 \n",
       "Bacteroides_clarus_62282_A            1.261116e-03\n",
       "Bacteroides_massiliensis_44749_A      6.114221e-11\n",
       "Bacteroides_uniformis_57318_A         2.869884e-01\n",
       "Bacteroides_uniformis_57318_B         2.682367e-03\n",
       "Bacteroides_vulgatus_57955_A          5.290913e-04\n",
       "Bacteroides_vulgatus_57955_B          1.625722e-01\n",
       "Bacteroides_vulgatus_57955_C          5.005885e-01\n",
       "Bacteroides_xylanisolvens_57185_A     5.813012e-02\n",
       "Barnesiella_intestinihominis_62208_A  7.128718e-02\n",
       "Eubacterium_rectale_56927_A           3.039126e-01\n",
       "Eubacterium_rectale_56927_B           6.860360e-01\n",
       "Paraprevotella_clara_33712_A          3.421500e-01\n",
       "Ruminococcus_bromii_62047_A           2.650259e-01\n",
       "Sutterella_wadsworthensis_56828_A     1.533427e-01\n",
       "Sutterella_wadsworthensis_56828_B     1.997530e-01"
      ]
     },
     "execution_count": 143,
     "metadata": {},
     "output_type": "execute_result"
    }
   ],
   "source": [
    "df"
   ]
  },
  {
   "cell_type": "code",
   "execution_count": 144,
   "id": "ee84f097",
   "metadata": {},
   "outputs": [
    {
     "data": {
      "text/html": [
       "<div>\n",
       "<style scoped>\n",
       "    .dataframe tbody tr th:only-of-type {\n",
       "        vertical-align: middle;\n",
       "    }\n",
       "\n",
       "    .dataframe tbody tr th {\n",
       "        vertical-align: top;\n",
       "    }\n",
       "\n",
       "    .dataframe thead th {\n",
       "        text-align: right;\n",
       "    }\n",
       "</style>\n",
       "<table border=\"1\" class=\"dataframe\">\n",
       "  <thead>\n",
       "    <tr style=\"text-align: right;\">\n",
       "      <th></th>\n",
       "      <th>1</th>\n",
       "    </tr>\n",
       "    <tr>\n",
       "      <th>0</th>\n",
       "      <th></th>\n",
       "    </tr>\n",
       "  </thead>\n",
       "  <tbody>\n",
       "    <tr>\n",
       "      <th>Alistipes_putredinis_61533</th>\n",
       "      <td>1.735781e-01</td>\n",
       "    </tr>\n",
       "    <tr>\n",
       "      <th>Bacteroides_clarus_62282</th>\n",
       "      <td>1.261116e-03</td>\n",
       "    </tr>\n",
       "    <tr>\n",
       "      <th>Bacteroides_massiliensis_44749</th>\n",
       "      <td>6.114221e-11</td>\n",
       "    </tr>\n",
       "    <tr>\n",
       "      <th>Bacteroides_uniformis_57318</th>\n",
       "      <td>5.754595e-01</td>\n",
       "    </tr>\n",
       "    <tr>\n",
       "      <th>Bacteroides_vulgatus_57955</th>\n",
       "      <td>2.947227e-01</td>\n",
       "    </tr>\n",
       "    <tr>\n",
       "      <th>Bacteroides_xylanisolvens_57185</th>\n",
       "      <td>5.813012e-02</td>\n",
       "    </tr>\n",
       "    <tr>\n",
       "      <th>Barnesiella_intestinihominis_62208</th>\n",
       "      <td>7.128718e-02</td>\n",
       "    </tr>\n",
       "    <tr>\n",
       "      <th>Eubacterium_rectale_56927</th>\n",
       "      <td>3.400437e-02</td>\n",
       "    </tr>\n",
       "    <tr>\n",
       "      <th>Paraprevotella_clara_33712</th>\n",
       "      <td>3.421500e-01</td>\n",
       "    </tr>\n",
       "    <tr>\n",
       "      <th>Ruminococcus_bromii_62047</th>\n",
       "      <td>2.650259e-01</td>\n",
       "    </tr>\n",
       "    <tr>\n",
       "      <th>Sutterella_wadsworthensis_56828</th>\n",
       "      <td>3.000874e-01</td>\n",
       "    </tr>\n",
       "  </tbody>\n",
       "</table>\n",
       "</div>"
      ],
      "text/plain": [
       "                                               1\n",
       "0                                               \n",
       "Alistipes_putredinis_61533          1.735781e-01\n",
       "Bacteroides_clarus_62282            1.261116e-03\n",
       "Bacteroides_massiliensis_44749      6.114221e-11\n",
       "Bacteroides_uniformis_57318         5.754595e-01\n",
       "Bacteroides_vulgatus_57955          2.947227e-01\n",
       "Bacteroides_xylanisolvens_57185     5.813012e-02\n",
       "Barnesiella_intestinihominis_62208  7.128718e-02\n",
       "Eubacterium_rectale_56927           3.400437e-02\n",
       "Paraprevotella_clara_33712          3.421500e-01\n",
       "Ruminococcus_bromii_62047           2.650259e-01\n",
       "Sutterella_wadsworthensis_56828     3.000874e-01"
      ]
     },
     "execution_count": 144,
     "metadata": {},
     "output_type": "execute_result"
    }
   ],
   "source": [
    "df_species"
   ]
  },
  {
   "cell_type": "code",
   "execution_count": 145,
   "id": "8c1fa440",
   "metadata": {},
   "outputs": [],
   "source": [
    "df_species = df_species.squeeze()\n",
    "df_species.index = [[figure_utils.get_pretty_species_name(d) for d in df_species.index]]"
   ]
  },
  {
   "cell_type": "code",
   "execution_count": 146,
   "id": "091051b7",
   "metadata": {},
   "outputs": [],
   "source": [
    "#s = [d[0] for d in df_species.index]\n",
    "\n",
    "#df_species.index = s"
   ]
  },
  {
   "cell_type": "code",
   "execution_count": 147,
   "id": "2dc37e0f",
   "metadata": {},
   "outputs": [],
   "source": [
    "species_names = [figure_utils.get_pretty_species_name(d[:-2]) for d in df.index]\n",
    "df[\"species\"] = species_names"
   ]
  },
  {
   "cell_type": "code",
   "execution_count": 148,
   "id": "d2c8ef2f",
   "metadata": {},
   "outputs": [
    {
     "data": {
      "text/plain": [
       "0.7333333333333333"
      ]
     },
     "execution_count": 148,
     "metadata": {},
     "output_type": "execute_result"
    }
   ],
   "source": [
    "(df[1] > .05).mean()"
   ]
  },
  {
   "cell_type": "code",
   "execution_count": 149,
   "id": "29f4dad5",
   "metadata": {},
   "outputs": [
    {
     "data": {
      "text/plain": [
       "0.7833333333333333"
      ]
     },
     "execution_count": 149,
     "metadata": {},
     "output_type": "execute_result"
    }
   ],
   "source": [
    "pass_/all_"
   ]
  },
  {
   "cell_type": "code",
   "execution_count": 150,
   "id": "1acac069",
   "metadata": {},
   "outputs": [],
   "source": [
    "df_gb = df.groupby(\"species\")"
   ]
  },
  {
   "cell_type": "code",
   "execution_count": 151,
   "id": "e485b1d2",
   "metadata": {},
   "outputs": [],
   "source": [
    "df_strain_species = {}\n",
    "for species in df_gb.groups:\n",
    "    df_strain_species[species] = df_gb.get_group(species)[1].values\n",
    "    a=df_strain_species[species]\n",
    "    df_strain_species[species] = np.pad(a, (0,3 - len(df_strain_species[species])), mode='constant',constant_values=(np.nan,))"
   ]
  },
  {
   "cell_type": "code",
   "execution_count": 152,
   "id": "4552063d",
   "metadata": {},
   "outputs": [],
   "source": [
    "cmap = plt.get_cmap('RdBu', 10)\n",
    "cmap.set_under(\"red\")\n",
    "cmap.set_over(\"blue\")"
   ]
  },
  {
   "cell_type": "code",
   "execution_count": 153,
   "id": "30f6c399",
   "metadata": {},
   "outputs": [],
   "source": [
    "df_strain_species = pd.DataFrame(df_strain_species).T"
   ]
  },
  {
   "cell_type": "code",
   "execution_count": 154,
   "id": "89259454",
   "metadata": {},
   "outputs": [],
   "source": [
    "df_strain_species.columns = [\"Strain A\",\"Strain B\", \"Strain C\"]"
   ]
  },
  {
   "cell_type": "code",
   "execution_count": 155,
   "id": "a4ff9372",
   "metadata": {},
   "outputs": [
    {
     "data": {
      "text/plain": [
       "Alistipes putredinis            1.735781e-01\n",
       "Bacteroides clarus              1.261116e-03\n",
       "Bacteroides massiliensis        6.114221e-11\n",
       "Bacteroides uniformis           5.754595e-01\n",
       "Bacteroides vulgatus            2.947227e-01\n",
       "Bacteroides xylanisolvens       5.813012e-02\n",
       "Barnesiella intestinihominis    7.128718e-02\n",
       "Eubacterium rectale             3.400437e-02\n",
       "Paraprevotella clara            3.421500e-01\n",
       "Ruminococcus bromii             2.650259e-01\n",
       "Sutterella wadsworthensis       3.000874e-01\n",
       "Name: 1, dtype: float64"
      ]
     },
     "execution_count": 155,
     "metadata": {},
     "output_type": "execute_result"
    }
   ],
   "source": [
    "df_species"
   ]
  },
  {
   "cell_type": "code",
   "execution_count": 156,
   "id": "4fddc9d0",
   "metadata": {},
   "outputs": [
    {
     "data": {
      "text/plain": [
       "(10, 3)"
      ]
     },
     "execution_count": 156,
     "metadata": {},
     "output_type": "execute_result"
    }
   ],
   "source": [
    "df_strain_species.shape"
   ]
  },
  {
   "cell_type": "code",
   "execution_count": 157,
   "id": "3573d878",
   "metadata": {},
   "outputs": [],
   "source": [
    "df_strain_species[\"Species\"] = np.nan"
   ]
  },
  {
   "cell_type": "code",
   "execution_count": 158,
   "id": "722a8cb6",
   "metadata": {
    "scrolled": true
   },
   "outputs": [
    {
     "name": "stdout",
     "output_type": "stream",
     "text": [
      "Bacteroides clarus\n",
      "Bacteroides massiliensis\n",
      "Bacteroides uniformis\n",
      "Bacteroides vulgatus\n",
      "Bacteroides xylanisolvens\n",
      "Barnesiella intestinihominis\n",
      "Eubacterium rectale\n",
      "Paraprevotella clara\n",
      "Ruminococcus bromii\n",
      "Sutterella wadsworthensis\n"
     ]
    }
   ],
   "source": [
    "for ind in df_strain_species.index:\n",
    "    print(ind)\n",
    "    df_strain_species.loc[ind,\"Species\"] = df_species.loc[ind][0]"
   ]
  },
  {
   "cell_type": "code",
   "execution_count": 159,
   "id": "0de4e71d",
   "metadata": {
    "scrolled": true
   },
   "outputs": [
    {
     "data": {
      "image/png": "[encoded data removed]",
      "text/plain": [
       "<Figure size 864x576 with 1 Axes>"
      ]
     },
     "metadata": {
      "needs_background": "light"
     },
     "output_type": "display_data"
    }
   ],
   "source": [
    "fig,ax = plt.subplots(figsize=(12,8))\n",
    "\n",
    "sns.heatmap(df_strain_species, ax=ax,cmap=cmap,vmin=0.05,vmax=.050001,\n",
    "            linewidths=3,linecolor=\"white\",cbar=None,annot=True,annot_kws={\"fontsize\":20,\"color\":\"white\"});\n",
    "\n",
    "fig.suptitle(host,size=30, fontstyle='italic')\n",
    "\n",
    "from matplotlib import rc,rcParams\n",
    "ax.tick_params(axis='x', which='major', labelsize=20,rotation=0,pad=20)\n",
    "ax.tick_params(axis='y', which='major', labelsize=20)\n",
    "\n",
    "ax.set_yticklabels(ax.get_yticklabels(), fontstyle='italic');\n",
    "ax.set_xticklabels(ax.get_xticklabels(), fontweight=\"bold\");"
   ]
  },
  {
   "cell_type": "code",
   "execution_count": null,
   "id": "bd683426",
   "metadata": {},
   "outputs": [],
   "source": []
  },
  {
   "cell_type": "code",
   "execution_count": null,
   "id": "9b01e4b5",
   "metadata": {},
   "outputs": [],
   "source": []
  }
 ],
 "metadata": {
  "kernelspec": {
   "display_name": "Python 3 (ipykernel)",
   "language": "python",
   "name": "python3"
  },
  "language_info": {
   "codemirror_mode": {
    "name": "ipython",
    "version": 3
   },
   "file_extension": ".py",
   "mimetype": "text/x-python",
   "name": "python",
   "nbconvert_exporter": "python",
   "pygments_lexer": "ipython3",
   "version": "3.9.6"
  }
 },
 "nbformat": 4,
 "nbformat_minor": 5
}
