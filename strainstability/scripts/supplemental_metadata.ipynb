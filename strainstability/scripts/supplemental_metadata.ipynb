{
 "cells": [
  {
   "cell_type": "code",
   "execution_count": 12,
   "id": "1ea02d79",
   "metadata": {},
   "outputs": [],
   "source": [
    "import pandas as pd\n",
    "import os\n",
    "import figure_utils"
   ]
  },
  {
   "cell_type": "code",
   "execution_count": 13,
   "id": "22998c0c",
   "metadata": {},
   "outputs": [],
   "source": [
    "refs = {}\n",
    "host=\"am\"\n",
    "for host in [\"am\",\"an\",\"ae\",\"ao\"]:    \n",
    "    base_path=f\"/u/scratch/r/rwolff/Poyet_midas_output/merged_midas_output/{host}/snps/\"\n",
    "    for s in os.listdir(base_path):\n",
    "        if s != \"species_snps.txt\":\n",
    "            df = pd.read_csv(f\"{base_path}/{s}/snps_summary.txt\",index_col=0,sep=\"\\t\")\n",
    "            refs[figure_utils.get_pretty_species_name(s)] = df[\"genome_length\"][0]"
   ]
  },
  {
   "cell_type": "code",
   "execution_count": 14,
   "id": "83f89ed4",
   "metadata": {},
   "outputs": [
    {
     "data": {
      "text/plain": [
       "Alistipes onderdonkii                   3864643\n",
       "Alistipes putredinis                    2550678\n",
       "Bacteroides cellulosilyticus            6870144\n",
       "Bacteroides clarus                      3746690\n",
       "Bacteroides fragilis                    5723061\n",
       "Bacteroides intestinalis                6052596\n",
       "Bacteroides massiliensis                4443004\n",
       "Bacteroides ovatus                      7880760\n",
       "Bacteroides stercoris                   4009829\n",
       "Bacteroides thetaiotaomicron            6855195\n",
       "Bacteroides uniformis                   4719097\n",
       "Bacteroides vulgatus                    5163189\n",
       "Bacteroides xylanisolvens               5986762\n",
       "Barnesiella intestinihominis            3433706\n",
       "Bifidobacterium adolescentis            2304613\n",
       "Dialister invisus                       1895960\n",
       "Eubacterium eligens                     2831389\n",
       "Eubacterium rectale                     3344951\n",
       "Faecalibacterium prausnitzii (57453)    3127383\n",
       "Faecalibacterium prausnitzii (61481)    3090349\n",
       "Faecalibacterium prausnitzii (62201)    3321367\n",
       "Parabacteroides distasonis              4887173\n",
       "Parabacteroides merdae                  4434377\n",
       "Paraprevotella clara                    4187245\n",
       "Phascolarctobacterium sp                2369100\n",
       "Ruminococcus bicirculans                2968500\n",
       "Ruminococcus bromii                     2249085\n",
       "Sutterella wadsworthensis               2949098\n",
       "dtype: int64"
      ]
     },
     "execution_count": 14,
     "metadata": {},
     "output_type": "execute_result"
    }
   ],
   "source": [
    "pd.Series(refs).sort_index()"
   ]
  },
  {
   "cell_type": "code",
   "execution_count": null,
   "id": "8d642a1d",
   "metadata": {},
   "outputs": [],
   "source": []
  }
 ],
 "metadata": {
  "kernelspec": {
   "display_name": "Python 3 (ipykernel)",
   "language": "python",
   "name": "python3"
  },
  "language_info": {
   "codemirror_mode": {
    "name": "ipython",
    "version": 3
   },
   "file_extension": ".py",
   "mimetype": "text/x-python",
   "name": "python",
   "nbconvert_exporter": "python",
   "pygments_lexer": "ipython3",
   "version": "3.9.6"
  }
 },
 "nbformat": 4,
 "nbformat_minor": 5
}
