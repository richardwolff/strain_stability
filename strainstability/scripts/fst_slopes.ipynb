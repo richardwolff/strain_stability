{
 "cells": [
  {
   "cell_type": "code",
   "execution_count": 5,
   "id": "e1c09685",
   "metadata": {},
   "outputs": [],
   "source": [
    "import pandas as pd\n",
    "import config\n",
    "import slm_utils\n",
    "import miscellaneous_utils as mu\n",
    "import matplotlib.pyplot as plt\n",
    "import seaborn as sns\n",
    "import numpy as np\n",
    "import os\n",
    "from scipy.stats import linregress"
   ]
  },
  {
   "cell_type": "code",
   "execution_count": 6,
   "id": "a14b6501",
   "metadata": {},
   "outputs": [],
   "source": [
    "def return_fst(host):\n",
    "    \n",
    "    pi_dir = \"%s/pi/Poyet/%s\" % (config.analysis_directory,host)\n",
    "    \n",
    "    good_species = [s[:-7] for s in os.listdir(pi_dir)]\n",
    "    dates = mu.return_dates(host)\n",
    "\n",
    "    all_samples = mu.return_host_samples(host)\n",
    "\n",
    "    pi_df_BT = pd.DataFrame(columns=all_samples,index=good_species)\n",
    "    pi_df_W = pd.DataFrame(columns=all_samples,index=good_species)\n",
    "\n",
    "    for spc in good_species:\n",
    "        pi_df = pd.read_csv(\"%s/%s_pi.txt\" % (pi_dir,spc),index_col=0)\n",
    "        pi_df_T = pd.DataFrame(columns=all_samples,index=all_samples)\n",
    "        pi_df_T.loc[pi_df.index,pi_df.columns] = pi_df\n",
    "        species_dates = dates.loc[pi_df.index].sort_values()\n",
    "        first_date = species_dates.index[0]\n",
    "        pi_df_BT.loc[spc] = pi_df_T.loc[first_date]\n",
    "        pi_df_W.loc[spc] = np.diag(pi_df_T)\n",
    "\n",
    "    \n",
    "    pi_df_W = pi_df_W.loc[:,[d for d in dates.index if d in pi_df_W.columns]]\n",
    "    pi_df_BT = pi_df_BT.loc[:,[d for d in dates.index if d in pi_df_BT.columns]]\n",
    "    \n",
    "    ## threshold by minimum number of samples being greater than 25, as in the strain inference parts of the paper\n",
    "    pi_df_W = pi_df_W.loc[pi_df_W.T.notna().sum() > 25]\n",
    "    pi_df_BT = pi_df_BT.loc[pi_df_W.index]\n",
    "\n",
    "    ## calculate the mean between host (BH) diversity of each species, from inter-sample pi in HMP\n",
    "\n",
    "    BH = {}\n",
    "    for spcs in pi_df_W.index:\n",
    "        pi_df_BH = pd.read_csv(\"/u/home/r/rwolff/diversity_ecology/analysis/pi/HMP1-2/%s/%s_pi.txt\" % (spcs,spcs),index_col=0)\n",
    "        xz = zip(np.triu_indices(n=pi_df_BH.shape[0],m=pi_df_BH.shape[1])[0],(np.triu_indices(n=pi_df_BH.shape[0],m=pi_df_BH.shape[1])[1]))\n",
    "        xz = list(xz)\n",
    "        BH[spcs] = 1-(pi_df_BH.values[xz].ravel().mean()-np.diag(pi_df_BH.values).mean())/pi_df_BH.values[xz].ravel().mean()\n",
    "    \n",
    "    BH = pd.Series(BH)\n",
    "    \n",
    "    Fst = 1-(pi_df_BT - pi_df_W)/pi_df_BT\n",
    "    \n",
    "    Fst = (BH/Fst.T).T\n",
    "    return(Fst)"
   ]
  },
  {
   "cell_type": "code",
   "execution_count": 3,
   "id": "1b0aad9c",
   "metadata": {},
   "outputs": [],
   "source": [
    "host = \"am\"\n",
    "pi_dir = \"%s/pi/Poyet/%s\" % (config.analysis_directory,host)\n",
    "spc = \"Bacteroides_xylanisolvens_57185\"\n",
    "pi_df = pd.read_csv(\"%s/%s_pi.txt\" % (pi_dir,spc),index_col=0)"
   ]
  },
  {
   "cell_type": "code",
   "execution_count": null,
   "id": "f2e1234d",
   "metadata": {},
   "outputs": [],
   "source": [
    "#pi_df = pi_df.drop(\"SRR9224141\",axis=0).drop(\"SRR9224141\",axis=1)"
   ]
  },
  {
   "cell_type": "code",
   "execution_count": null,
   "id": "6228b63e",
   "metadata": {},
   "outputs": [],
   "source": [
    "#pi_df.to_csv(\"%s/%s_pi.txt\" % (pi_dir,spc))"
   ]
  },
  {
   "cell_type": "code",
   "execution_count": 53,
   "id": "ec154635",
   "metadata": {},
   "outputs": [],
   "source": [
    "host = \"am\"\n",
    "Fst = return_fst(host)\n",
    "dates = mu.return_dates(host)"
   ]
  },
  {
   "cell_type": "code",
   "execution_count": 49,
   "id": "23ba61ee",
   "metadata": {},
   "outputs": [
    {
     "data": {
      "text/html": [
       "<div>\n",
       "<style scoped>\n",
       "    .dataframe tbody tr th:only-of-type {\n",
       "        vertical-align: middle;\n",
       "    }\n",
       "\n",
       "    .dataframe tbody tr th {\n",
       "        vertical-align: top;\n",
       "    }\n",
       "\n",
       "    .dataframe thead th {\n",
       "        text-align: right;\n",
       "    }\n",
       "</style>\n",
       "<table border=\"1\" class=\"dataframe\">\n",
       "  <thead>\n",
       "    <tr style=\"text-align: right;\">\n",
       "      <th></th>\n",
       "      <th>SRR9224432</th>\n",
       "      <th>SRR9224402</th>\n",
       "      <th>SRR9224395</th>\n",
       "      <th>SRR9224396</th>\n",
       "      <th>SRR9224393</th>\n",
       "      <th>SRR9224394</th>\n",
       "      <th>SRR9224399</th>\n",
       "      <th>SRR9224400</th>\n",
       "      <th>SRR9224397</th>\n",
       "      <th>SRR9224398</th>\n",
       "      <th>...</th>\n",
       "      <th>SRR9224302</th>\n",
       "      <th>SRR9224309</th>\n",
       "      <th>SRR9224310</th>\n",
       "      <th>SRR9224420</th>\n",
       "      <th>SRR9224419</th>\n",
       "      <th>SRR9224418</th>\n",
       "      <th>SRR9224417</th>\n",
       "      <th>SRR9224416</th>\n",
       "      <th>SRR9224415</th>\n",
       "      <th>SRR9224414</th>\n",
       "    </tr>\n",
       "  </thead>\n",
       "  <tbody>\n",
       "    <tr>\n",
       "      <th>Eubacterium_rectale_56927</th>\n",
       "      <td>0.210638</td>\n",
       "      <td>0.24979</td>\n",
       "      <td>0.250559</td>\n",
       "      <td>NaN</td>\n",
       "      <td>0.24744</td>\n",
       "      <td>NaN</td>\n",
       "      <td>NaN</td>\n",
       "      <td>0.244945</td>\n",
       "      <td>NaN</td>\n",
       "      <td>0.227383</td>\n",
       "      <td>...</td>\n",
       "      <td>0.226984</td>\n",
       "      <td>NaN</td>\n",
       "      <td>NaN</td>\n",
       "      <td>NaN</td>\n",
       "      <td>0.250881</td>\n",
       "      <td>NaN</td>\n",
       "      <td>0.22547</td>\n",
       "      <td>NaN</td>\n",
       "      <td>0.218149</td>\n",
       "      <td>NaN</td>\n",
       "    </tr>\n",
       "    <tr>\n",
       "      <th>Alistipes_putredinis_61533</th>\n",
       "      <td>0.098176</td>\n",
       "      <td>0.101408</td>\n",
       "      <td>0.111627</td>\n",
       "      <td>0.104216</td>\n",
       "      <td>0.114902</td>\n",
       "      <td>0.109517</td>\n",
       "      <td>0.109438</td>\n",
       "      <td>0.12087</td>\n",
       "      <td>0.111185</td>\n",
       "      <td>0.117022</td>\n",
       "      <td>...</td>\n",
       "      <td>0.084859</td>\n",
       "      <td>0.090826</td>\n",
       "      <td>0.092715</td>\n",
       "      <td>0.092233</td>\n",
       "      <td>0.101271</td>\n",
       "      <td>0.123425</td>\n",
       "      <td>0.109036</td>\n",
       "      <td>0.093716</td>\n",
       "      <td>0.089918</td>\n",
       "      <td>0.083014</td>\n",
       "    </tr>\n",
       "    <tr>\n",
       "      <th>Alistipes_onderdonkii_55464</th>\n",
       "      <td>0.116638</td>\n",
       "      <td>0.147788</td>\n",
       "      <td>0.134273</td>\n",
       "      <td>0.154508</td>\n",
       "      <td>0.131658</td>\n",
       "      <td>0.131621</td>\n",
       "      <td>0.131797</td>\n",
       "      <td>0.138596</td>\n",
       "      <td>0.142356</td>\n",
       "      <td>0.131682</td>\n",
       "      <td>...</td>\n",
       "      <td>NaN</td>\n",
       "      <td>0.157737</td>\n",
       "      <td>0.153856</td>\n",
       "      <td>NaN</td>\n",
       "      <td>0.152606</td>\n",
       "      <td>0.152544</td>\n",
       "      <td>0.139659</td>\n",
       "      <td>0.1593</td>\n",
       "      <td>NaN</td>\n",
       "      <td>NaN</td>\n",
       "    </tr>\n",
       "    <tr>\n",
       "      <th>Bacteroides_uniformis_57318</th>\n",
       "      <td>0.137185</td>\n",
       "      <td>0.148028</td>\n",
       "      <td>0.144394</td>\n",
       "      <td>0.157205</td>\n",
       "      <td>0.153604</td>\n",
       "      <td>0.145197</td>\n",
       "      <td>0.148784</td>\n",
       "      <td>0.144795</td>\n",
       "      <td>0.149588</td>\n",
       "      <td>0.14631</td>\n",
       "      <td>...</td>\n",
       "      <td>0.138133</td>\n",
       "      <td>0.146284</td>\n",
       "      <td>0.150673</td>\n",
       "      <td>0.129838</td>\n",
       "      <td>0.132064</td>\n",
       "      <td>0.165272</td>\n",
       "      <td>0.151317</td>\n",
       "      <td>0.144283</td>\n",
       "      <td>0.14145</td>\n",
       "      <td>0.132319</td>\n",
       "    </tr>\n",
       "    <tr>\n",
       "      <th>Bacteroides_massiliensis_44749</th>\n",
       "      <td>0.163257</td>\n",
       "      <td>0.171537</td>\n",
       "      <td>0.175525</td>\n",
       "      <td>0.17494</td>\n",
       "      <td>0.173429</td>\n",
       "      <td>0.176234</td>\n",
       "      <td>0.174263</td>\n",
       "      <td>0.19006</td>\n",
       "      <td>0.172854</td>\n",
       "      <td>0.179448</td>\n",
       "      <td>...</td>\n",
       "      <td>0.125608</td>\n",
       "      <td>0.147797</td>\n",
       "      <td>0.148693</td>\n",
       "      <td>0.126313</td>\n",
       "      <td>0.131467</td>\n",
       "      <td>0.18237</td>\n",
       "      <td>0.175449</td>\n",
       "      <td>0.155353</td>\n",
       "      <td>0.182404</td>\n",
       "      <td>0.120117</td>\n",
       "    </tr>\n",
       "    <tr>\n",
       "      <th>Bacteroides_vulgatus_57955</th>\n",
       "      <td>0.178624</td>\n",
       "      <td>0.190663</td>\n",
       "      <td>0.194552</td>\n",
       "      <td>0.199588</td>\n",
       "      <td>0.198664</td>\n",
       "      <td>0.184324</td>\n",
       "      <td>0.176782</td>\n",
       "      <td>0.168005</td>\n",
       "      <td>0.178952</td>\n",
       "      <td>0.192453</td>\n",
       "      <td>...</td>\n",
       "      <td>0.162849</td>\n",
       "      <td>0.153919</td>\n",
       "      <td>0.167132</td>\n",
       "      <td>0.152865</td>\n",
       "      <td>0.137311</td>\n",
       "      <td>0.167771</td>\n",
       "      <td>0.157724</td>\n",
       "      <td>0.150977</td>\n",
       "      <td>0.170858</td>\n",
       "      <td>0.155067</td>\n",
       "    </tr>\n",
       "    <tr>\n",
       "      <th>Bacteroides_thetaiotaomicron_56941</th>\n",
       "      <td>0.166697</td>\n",
       "      <td>0.188307</td>\n",
       "      <td>0.185439</td>\n",
       "      <td>0.187846</td>\n",
       "      <td>0.195162</td>\n",
       "      <td>0.192418</td>\n",
       "      <td>0.206089</td>\n",
       "      <td>0.188378</td>\n",
       "      <td>0.187736</td>\n",
       "      <td>0.221073</td>\n",
       "      <td>...</td>\n",
       "      <td>0.215113</td>\n",
       "      <td>0.216459</td>\n",
       "      <td>0.209922</td>\n",
       "      <td>NaN</td>\n",
       "      <td>0.214829</td>\n",
       "      <td>0.204048</td>\n",
       "      <td>0.200053</td>\n",
       "      <td>0.208485</td>\n",
       "      <td>0.217588</td>\n",
       "      <td>NaN</td>\n",
       "    </tr>\n",
       "    <tr>\n",
       "      <th>Bacteroides_ovatus_58035</th>\n",
       "      <td>0.222104</td>\n",
       "      <td>0.213204</td>\n",
       "      <td>0.231695</td>\n",
       "      <td>0.265753</td>\n",
       "      <td>0.294346</td>\n",
       "      <td>0.255315</td>\n",
       "      <td>0.353115</td>\n",
       "      <td>0.266714</td>\n",
       "      <td>0.256576</td>\n",
       "      <td>0.320564</td>\n",
       "      <td>...</td>\n",
       "      <td>0.18727</td>\n",
       "      <td>0.194833</td>\n",
       "      <td>0.19466</td>\n",
       "      <td>NaN</td>\n",
       "      <td>0.17779</td>\n",
       "      <td>0.22356</td>\n",
       "      <td>0.204305</td>\n",
       "      <td>0.187215</td>\n",
       "      <td>0.182861</td>\n",
       "      <td>0.198218</td>\n",
       "    </tr>\n",
       "    <tr>\n",
       "      <th>Bacteroides_cellulosilyticus_58046</th>\n",
       "      <td>0.091501</td>\n",
       "      <td>0.106317</td>\n",
       "      <td>0.104258</td>\n",
       "      <td>NaN</td>\n",
       "      <td>0.109934</td>\n",
       "      <td>0.113543</td>\n",
       "      <td>0.105895</td>\n",
       "      <td>0.113666</td>\n",
       "      <td>0.113239</td>\n",
       "      <td>0.106124</td>\n",
       "      <td>...</td>\n",
       "      <td>NaN</td>\n",
       "      <td>NaN</td>\n",
       "      <td>NaN</td>\n",
       "      <td>NaN</td>\n",
       "      <td>NaN</td>\n",
       "      <td>NaN</td>\n",
       "      <td>0.118721</td>\n",
       "      <td>NaN</td>\n",
       "      <td>NaN</td>\n",
       "      <td>NaN</td>\n",
       "    </tr>\n",
       "  </tbody>\n",
       "</table>\n",
       "<p>9 rows × 56 columns</p>\n",
       "</div>"
      ],
      "text/plain": [
       "                                   SRR9224432 SRR9224402 SRR9224395  \\\n",
       "Eubacterium_rectale_56927            0.210638    0.24979   0.250559   \n",
       "Alistipes_putredinis_61533           0.098176   0.101408   0.111627   \n",
       "Alistipes_onderdonkii_55464          0.116638   0.147788   0.134273   \n",
       "Bacteroides_uniformis_57318          0.137185   0.148028   0.144394   \n",
       "Bacteroides_massiliensis_44749       0.163257   0.171537   0.175525   \n",
       "Bacteroides_vulgatus_57955           0.178624   0.190663   0.194552   \n",
       "Bacteroides_thetaiotaomicron_56941   0.166697   0.188307   0.185439   \n",
       "Bacteroides_ovatus_58035             0.222104   0.213204   0.231695   \n",
       "Bacteroides_cellulosilyticus_58046   0.091501   0.106317   0.104258   \n",
       "\n",
       "                                   SRR9224396 SRR9224393 SRR9224394  \\\n",
       "Eubacterium_rectale_56927                 NaN    0.24744        NaN   \n",
       "Alistipes_putredinis_61533           0.104216   0.114902   0.109517   \n",
       "Alistipes_onderdonkii_55464          0.154508   0.131658   0.131621   \n",
       "Bacteroides_uniformis_57318          0.157205   0.153604   0.145197   \n",
       "Bacteroides_massiliensis_44749        0.17494   0.173429   0.176234   \n",
       "Bacteroides_vulgatus_57955           0.199588   0.198664   0.184324   \n",
       "Bacteroides_thetaiotaomicron_56941   0.187846   0.195162   0.192418   \n",
       "Bacteroides_ovatus_58035             0.265753   0.294346   0.255315   \n",
       "Bacteroides_cellulosilyticus_58046        NaN   0.109934   0.113543   \n",
       "\n",
       "                                   SRR9224399 SRR9224400 SRR9224397  \\\n",
       "Eubacterium_rectale_56927                 NaN   0.244945        NaN   \n",
       "Alistipes_putredinis_61533           0.109438    0.12087   0.111185   \n",
       "Alistipes_onderdonkii_55464          0.131797   0.138596   0.142356   \n",
       "Bacteroides_uniformis_57318          0.148784   0.144795   0.149588   \n",
       "Bacteroides_massiliensis_44749       0.174263    0.19006   0.172854   \n",
       "Bacteroides_vulgatus_57955           0.176782   0.168005   0.178952   \n",
       "Bacteroides_thetaiotaomicron_56941   0.206089   0.188378   0.187736   \n",
       "Bacteroides_ovatus_58035             0.353115   0.266714   0.256576   \n",
       "Bacteroides_cellulosilyticus_58046   0.105895   0.113666   0.113239   \n",
       "\n",
       "                                   SRR9224398  ... SRR9224302 SRR9224309  \\\n",
       "Eubacterium_rectale_56927            0.227383  ...   0.226984        NaN   \n",
       "Alistipes_putredinis_61533           0.117022  ...   0.084859   0.090826   \n",
       "Alistipes_onderdonkii_55464          0.131682  ...        NaN   0.157737   \n",
       "Bacteroides_uniformis_57318           0.14631  ...   0.138133   0.146284   \n",
       "Bacteroides_massiliensis_44749       0.179448  ...   0.125608   0.147797   \n",
       "Bacteroides_vulgatus_57955           0.192453  ...   0.162849   0.153919   \n",
       "Bacteroides_thetaiotaomicron_56941   0.221073  ...   0.215113   0.216459   \n",
       "Bacteroides_ovatus_58035             0.320564  ...    0.18727   0.194833   \n",
       "Bacteroides_cellulosilyticus_58046   0.106124  ...        NaN        NaN   \n",
       "\n",
       "                                   SRR9224310 SRR9224420 SRR9224419  \\\n",
       "Eubacterium_rectale_56927                 NaN        NaN   0.250881   \n",
       "Alistipes_putredinis_61533           0.092715   0.092233   0.101271   \n",
       "Alistipes_onderdonkii_55464          0.153856        NaN   0.152606   \n",
       "Bacteroides_uniformis_57318          0.150673   0.129838   0.132064   \n",
       "Bacteroides_massiliensis_44749       0.148693   0.126313   0.131467   \n",
       "Bacteroides_vulgatus_57955           0.167132   0.152865   0.137311   \n",
       "Bacteroides_thetaiotaomicron_56941   0.209922        NaN   0.214829   \n",
       "Bacteroides_ovatus_58035              0.19466        NaN    0.17779   \n",
       "Bacteroides_cellulosilyticus_58046        NaN        NaN        NaN   \n",
       "\n",
       "                                   SRR9224418 SRR9224417 SRR9224416  \\\n",
       "Eubacterium_rectale_56927                 NaN    0.22547        NaN   \n",
       "Alistipes_putredinis_61533           0.123425   0.109036   0.093716   \n",
       "Alistipes_onderdonkii_55464          0.152544   0.139659     0.1593   \n",
       "Bacteroides_uniformis_57318          0.165272   0.151317   0.144283   \n",
       "Bacteroides_massiliensis_44749        0.18237   0.175449   0.155353   \n",
       "Bacteroides_vulgatus_57955           0.167771   0.157724   0.150977   \n",
       "Bacteroides_thetaiotaomicron_56941   0.204048   0.200053   0.208485   \n",
       "Bacteroides_ovatus_58035              0.22356   0.204305   0.187215   \n",
       "Bacteroides_cellulosilyticus_58046        NaN   0.118721        NaN   \n",
       "\n",
       "                                   SRR9224415 SRR9224414  \n",
       "Eubacterium_rectale_56927            0.218149        NaN  \n",
       "Alistipes_putredinis_61533           0.089918   0.083014  \n",
       "Alistipes_onderdonkii_55464               NaN        NaN  \n",
       "Bacteroides_uniformis_57318           0.14145   0.132319  \n",
       "Bacteroides_massiliensis_44749       0.182404   0.120117  \n",
       "Bacteroides_vulgatus_57955           0.170858   0.155067  \n",
       "Bacteroides_thetaiotaomicron_56941   0.217588        NaN  \n",
       "Bacteroides_ovatus_58035             0.182861   0.198218  \n",
       "Bacteroides_cellulosilyticus_58046        NaN        NaN  \n",
       "\n",
       "[9 rows x 56 columns]"
      ]
     },
     "execution_count": 49,
     "metadata": {},
     "output_type": "execute_result"
    }
   ],
   "source": [
    "Fst"
   ]
  },
  {
   "cell_type": "code",
   "execution_count": 4,
   "id": "0a2baad6",
   "metadata": {},
   "outputs": [],
   "source": [
    "def return_LR(X):\n",
    "\n",
    "    df_LR = pd.DataFrame(0,index=X.index,columns=[\"slope\",\"intercept\",\"r_value\",\"p_value\",\"std_err\"])\n",
    "\n",
    "    for species in X.index:\n",
    "        y_df = X.loc[species]\n",
    "        y_df = y_df.loc[y_df.notna()]\n",
    "        x = dates.loc[y_df.index].values \n",
    "        y = y_df.values\n",
    "\n",
    "        x = x.astype(float)[1:]\n",
    "        y = y.astype(float)[1:]\n",
    "\n",
    "        LR = linregress(x, y)\n",
    "\n",
    "        df_LR.loc[species] = list(LR)\n",
    "    return(df_LR)"
   ]
  },
  {
   "cell_type": "code",
   "execution_count": 5,
   "id": "fa0f4d44",
   "metadata": {},
   "outputs": [],
   "source": [
    "def get_hurst_exponent(time_series, max_lag=25):\n",
    "    \"\"\"Returns the Hurst Exponent of the time series\"\"\"\n",
    "    \n",
    "    lags = range(2, max_lag)\n",
    "\n",
    "    # variances of the lagged differences\n",
    "    tau = [np.std(np.subtract(time_series[lag:], time_series[:-lag])) for lag in lags]\n",
    "\n",
    "    # calculate the slope of the log plot -> the Hurst Exponent\n",
    "    reg = np.polyfit(np.log(lags), np.log(tau), 1)\n",
    "\n",
    "    return reg[0]"
   ]
  },
  {
   "cell_type": "code",
   "execution_count": null,
   "id": "061f0cbd",
   "metadata": {},
   "outputs": [],
   "source": [
    "H = {}\n",
    "for s in Fst.index:\n",
    "    H[s] = get_hurst_exponent(Fst.loc[s].dropna().values)\n"
   ]
  },
  {
   "cell_type": "code",
   "execution_count": null,
   "id": "7d5f386c",
   "metadata": {},
   "outputs": [],
   "source": [
    "H"
   ]
  },
  {
   "cell_type": "code",
   "execution_count": null,
   "id": "265c3376",
   "metadata": {},
   "outputs": [],
   "source": [
    "plt.plot(Fst.loc['Faecalibacterium_prausnitzii_61481'].dropna().values)"
   ]
  },
  {
   "cell_type": "code",
   "execution_count": null,
   "id": "ab7fa2c0",
   "metadata": {},
   "outputs": [],
   "source": [
    "df_LR = return_LR(Fst)"
   ]
  },
  {
   "cell_type": "code",
   "execution_count": null,
   "id": "c16afee8",
   "metadata": {},
   "outputs": [],
   "source": [
    "1 - (np.logical_and(df_LR[\"p_value\"] < .05,df_LR[\"slope\"] > 0))"
   ]
  },
  {
   "cell_type": "code",
   "execution_count": null,
   "id": "150c81fe",
   "metadata": {},
   "outputs": [],
   "source": [
    "(df_LR[\"p_value\"] > .05)"
   ]
  },
  {
   "cell_type": "code",
   "execution_count": null,
   "id": "66c68226",
   "metadata": {
    "scrolled": true
   },
   "outputs": [],
   "source": [
    "(np.logical_and(df_LR[\"p_value\"] < .05,df_LR[\"slope\"] > 0))"
   ]
  },
  {
   "cell_type": "code",
   "execution_count": 37,
   "id": "9a7c5430",
   "metadata": {},
   "outputs": [],
   "source": [
    "df_strains = pd.read_csv(\"strains_%s.csv\" % host,index_col=0)"
   ]
  },
  {
   "cell_type": "code",
   "execution_count": null,
   "id": "bb84a43e",
   "metadata": {},
   "outputs": [],
   "source": [
    "df_strains = df_strains.loc[df_strains.T.notna().sum() > 25]"
   ]
  },
  {
   "cell_type": "code",
   "execution_count": null,
   "id": "7cd599ad",
   "metadata": {},
   "outputs": [],
   "source": [
    "df_LR = return_LR(df_strains)"
   ]
  },
  {
   "cell_type": "code",
   "execution_count": null,
   "id": "53ad97bb",
   "metadata": {},
   "outputs": [],
   "source": [
    "(df_LR[\"p_value\"] >.05).mean()"
   ]
  },
  {
   "cell_type": "code",
   "execution_count": null,
   "id": "f3a05877",
   "metadata": {},
   "outputs": [],
   "source": [
    "H = {}\n",
    "for s in df_strains.index:\n",
    "    H[s] = get_hurst_exponent(df_strains.loc[s].dropna().values)\n"
   ]
  },
  {
   "cell_type": "code",
   "execution_count": 6,
   "id": "0ec6fe28",
   "metadata": {},
   "outputs": [],
   "source": [
    "from statsmodels.tsa.stattools import adfuller\n"
   ]
  },
  {
   "cell_type": "code",
   "execution_count": 4,
   "id": "fa223eb2",
   "metadata": {},
   "outputs": [
    {
     "ename": "NameError",
     "evalue": "name 'Fst' is not defined",
     "output_type": "error",
     "traceback": [
      "\u001b[0;31m---------------------------------------------------------------------------\u001b[0m",
      "\u001b[0;31mNameError\u001b[0m                                 Traceback (most recent call last)",
      "Input \u001b[0;32mIn [4]\u001b[0m, in \u001b[0;36m<cell line: 2>\u001b[0;34m()\u001b[0m\n\u001b[1;32m      1\u001b[0m H \u001b[38;5;241m=\u001b[39m {}\n\u001b[0;32m----> 2\u001b[0m \u001b[38;5;28;01mfor\u001b[39;00m s \u001b[38;5;129;01min\u001b[39;00m \u001b[43mFst\u001b[49m\u001b[38;5;241m.\u001b[39mindex:\n\u001b[1;32m      3\u001b[0m     H[s] \u001b[38;5;241m=\u001b[39m adfuller(Fst\u001b[38;5;241m.\u001b[39mloc[s]\u001b[38;5;241m.\u001b[39mdropna()\u001b[38;5;241m.\u001b[39mvalues)[\u001b[38;5;241m1\u001b[39m]\n",
      "\u001b[0;31mNameError\u001b[0m: name 'Fst' is not defined"
     ]
    }
   ],
   "source": [
    "H = {}\n",
    "for s in Fst.index:\n",
    "    H[s] = adfuller(Fst.loc[s].dropna().values)[1]"
   ]
  },
  {
   "cell_type": "code",
   "execution_count": 43,
   "id": "996daa04",
   "metadata": {},
   "outputs": [],
   "source": [
    "H = {}\n",
    "for s in df_strains.index:\n",
    "    H[s] = adfuller(df_strains.loc[s].dropna().values)[1]\n",
    "\n"
   ]
  },
  {
   "cell_type": "code",
   "execution_count": 55,
   "id": "c837f59b",
   "metadata": {},
   "outputs": [
    {
     "data": {
      "text/plain": [
       "{'Phascolarctobacterium_sp_59817': 0.7495577990576427,\n",
       " 'Faecalibacterium_prausnitzii_57453': 3.645269821342896e-06,\n",
       " 'Ruminococcus_bromii_62047': 3.0296004463272185e-12,\n",
       " 'Bacteroides_uniformis_57318': 0.005975502867721754,\n",
       " 'Ruminococcus_bicirculans_59300': 2.5957948333964205e-12,\n",
       " 'Bacteroides_xylanisolvens_57185': 3.777661663595768e-11,\n",
       " 'Eubacterium_rectale_56927': 5.119268441958055e-15,\n",
       " 'Bacteroides_ovatus_58035': 3.281425490349193e-08,\n",
       " 'Bacteroides_vulgatus_57955': 1.5270719267935705e-09,\n",
       " 'Parabacteroides_merdae_56972': 0.055428407198155415,\n",
       " 'Bacteroides_stercoris_56735': 1.723919322652217e-19,\n",
       " 'Bacteroides_fragilis_54507': 7.197305591000913e-17}"
      ]
     },
     "execution_count": 55,
     "metadata": {},
     "output_type": "execute_result"
    }
   ],
   "source": [
    "H"
   ]
  },
  {
   "cell_type": "code",
   "execution_count": 56,
   "id": "f032f59d",
   "metadata": {},
   "outputs": [
    {
     "data": {
      "text/plain": [
       "0.8333333333333334"
      ]
     },
     "execution_count": 56,
     "metadata": {},
     "output_type": "execute_result"
    }
   ],
   "source": [
    "(pd.Series(H) < .05).mean()"
   ]
  },
  {
   "cell_type": "code",
   "execution_count": 42,
   "id": "24f028c9",
   "metadata": {},
   "outputs": [
    {
     "data": {
      "text/plain": [
       "[<matplotlib.lines.Line2D at 0x2b19d3d3dc70>]"
      ]
     },
     "execution_count": 42,
     "metadata": {},
     "output_type": "execute_result"
    },
    {
     "data": {
      "image/png": "[encoded data removed]",
      "text/plain": [
       "<Figure size 432x288 with 1 Axes>"
      ]
     },
     "metadata": {
      "needs_background": "light"
     },
     "output_type": "display_data"
    }
   ],
   "source": [
    "plt.plot(df_strains.loc['Bacteroides_uniformis_57318_A'].dropna().values)"
   ]
  },
  {
   "cell_type": "code",
   "execution_count": 41,
   "id": "807294f3",
   "metadata": {},
   "outputs": [
    {
     "data": {
      "text/plain": [
       "[<matplotlib.lines.Line2D at 0x2b19d3843a90>]"
      ]
     },
     "execution_count": 41,
     "metadata": {},
     "output_type": "execute_result"
    },
    {
     "data": {
      "image/png": "[encoded data removed]",
      "text/plain": [
       "<Figure size 432x288 with 1 Axes>"
      ]
     },
     "metadata": {
      "needs_background": "light"
     },
     "output_type": "display_data"
    }
   ],
   "source": [
    "plt.plot(df_strains.loc['Bacteroides_uniformis_57318_B'].dropna().values)"
   ]
  },
  {
   "cell_type": "code",
   "execution_count": 31,
   "id": "b6b21094",
   "metadata": {},
   "outputs": [
    {
     "data": {
      "text/plain": [
       "[<matplotlib.lines.Line2D at 0x2b19d378bbb0>]"
      ]
     },
     "execution_count": 31,
     "metadata": {},
     "output_type": "execute_result"
    },
    {
     "data": {
      "image/png": "[encoded data removed]",
      "text/plain": [
       "<Figure size 432x288 with 1 Axes>"
      ]
     },
     "metadata": {
      "needs_background": "light"
     },
     "output_type": "display_data"
    }
   ],
   "source": [
    "plt.plot(Fst.loc['Eubacterium_rectale_56927'].dropna().values)"
   ]
  },
  {
   "cell_type": "code",
   "execution_count": 32,
   "id": "4494d7f9",
   "metadata": {},
   "outputs": [
    {
     "data": {
      "text/plain": [
       "[<matplotlib.lines.Line2D at 0x2b19cb0f9f70>]"
      ]
     },
     "execution_count": 32,
     "metadata": {},
     "output_type": "execute_result"
    },
    {
     "data": {
      "image/png": "[encoded data removed]",
      "text/plain": [
       "<Figure size 432x288 with 1 Axes>"
      ]
     },
     "metadata": {
      "needs_background": "light"
     },
     "output_type": "display_data"
    }
   ],
   "source": [
    "plt.plot(Fst.loc['Sutterella_wadsworthensis_56828'].dropna().values)"
   ]
  },
  {
   "cell_type": "code",
   "execution_count": 20,
   "id": "090a1677",
   "metadata": {},
   "outputs": [
    {
     "data": {
      "text/plain": [
       "[<matplotlib.lines.Line2D at 0x2b19cae40eb0>]"
      ]
     },
     "execution_count": 20,
     "metadata": {},
     "output_type": "execute_result"
    },
    {
     "data": {
      "image/png": "[encoded data removed]",
      "text/plain": [
       "<Figure size 432x288 with 1 Axes>"
      ]
     },
     "metadata": {
      "needs_background": "light"
     },
     "output_type": "display_data"
    }
   ],
   "source": [
    "plt.plot(Fst.loc['Bacteroides_uniformis_57318'].dropna().values)"
   ]
  },
  {
   "cell_type": "code",
   "execution_count": null,
   "id": "7e84cd11",
   "metadata": {},
   "outputs": [],
   "source": []
  }
 ],
 "metadata": {
  "kernelspec": {
   "display_name": "SLM_testing",
   "language": "python",
   "name": "slm_testing"
  },
  "language_info": {
   "codemirror_mode": {
    "name": "ipython",
    "version": 3
   },
   "file_extension": ".py",
   "mimetype": "text/x-python",
   "name": "python",
   "nbconvert_exporter": "python",
   "pygments_lexer": "ipython3",
   "version": "3.9.12"
  }
 },
 "nbformat": 4,
 "nbformat_minor": 5
}
