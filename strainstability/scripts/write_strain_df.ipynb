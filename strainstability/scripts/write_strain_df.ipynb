{
 "cells": [
  {
   "cell_type": "code",
   "execution_count": 1,
   "id": "b86d553a",
   "metadata": {},
   "outputs": [],
   "source": [
    "import state_utils\n",
    "\n",
    "state_utils.set_cohort(\"Poyet\")\n",
    "state_utils.set_host(\"ao\")\n",
    "state_utils.set_midas_db_type(\"standard\")\n",
    "\n",
    "import pandas as pd\n",
    "import numpy as np\n",
    "import matplotlib.pyplot as plt\n",
    "import config\n",
    "import os"
   ]
  },
  {
   "cell_type": "code",
   "execution_count": 2,
   "id": "f261057c",
   "metadata": {},
   "outputs": [],
   "source": [
    "letter_list = [\"A\",\"B\",\"C\"]"
   ]
  },
  {
   "cell_type": "code",
   "execution_count": 3,
   "id": "d0ce8b7b",
   "metadata": {},
   "outputs": [],
   "source": [
    "analysis_dir = config.analysis_directory\n",
    "\n",
    "all_species = os.listdir(\"%s/clusters/Poyet/%s\" % (analysis_dir,config.host))"
   ]
  },
  {
   "cell_type": "code",
   "execution_count": 4,
   "id": "e9cb1ac9",
   "metadata": {},
   "outputs": [],
   "source": [
    "spec_df = pd.read_csv(\"%sspecies/relative_abundance.txt.bz2\" % config.data_directory,index_col=0,sep=\"\\t\")"
   ]
  },
  {
   "cell_type": "code",
   "execution_count": 5,
   "id": "0085b326",
   "metadata": {},
   "outputs": [],
   "source": [
    "tot_strain_df = pd.DataFrame(columns=config.host_samples)"
   ]
  },
  {
   "cell_type": "code",
   "execution_count": 110,
   "id": "dbad1ba3",
   "metadata": {},
   "outputs": [
    {
     "data": {
      "image/png": "[encoded data removed]",
      "text/plain": [
       "<Figure size 432x288 with 1 Axes>"
      ]
     },
     "metadata": {
      "needs_background": "light"
     },
     "output_type": "display_data"
    }
   ],
   "source": [
    "x = np.random.normal(0,1,100000)\n",
    "plt.hist(x,bins=50);\n",
    "\n",
    "p = np.percentile(x,np.linspace(0,100,30))\n",
    "for f in p:\n",
    "    plt.axvline(f,color=\"red\",zorder=10,alpha=.7)"
   ]
  },
  {
   "cell_type": "code",
   "execution_count": 111,
   "id": "a19c208e",
   "metadata": {},
   "outputs": [
    {
     "data": {
      "text/plain": [
       "array([-4.15629675, -1.82016063, -1.48228552, -1.2595449 , -1.08915016,\n",
       "       -0.94640519, -0.81886867, -0.70471596, -0.60172671, -0.50172363,\n",
       "       -0.40639925, -0.31032379, -0.21950462, -0.13023015, -0.04380404,\n",
       "        0.04247458,  0.12951763,  0.21682296,  0.30766872,  0.40064522,\n",
       "        0.49688795,  0.59513532,  0.70108812,  0.81659163,  0.94504993,\n",
       "        1.08901396,  1.26337236,  1.48538843,  1.82421799,  4.74847016])"
      ]
     },
     "execution_count": 111,
     "metadata": {},
     "output_type": "execute_result"
    }
   ],
   "source": [
    "p"
   ]
  },
  {
   "cell_type": "code",
   "execution_count": null,
   "id": "2c749f1e",
   "metadata": {},
   "outputs": [],
   "source": [
    "species=\"Bacteroides_vulgatus_57955\"\n",
    "cluster_dir = \"%s/clusters/Poyet/%s/%s\" % (analysis_dir,config.host,species)\n",
    "\n",
    "strain_snv_dic = {}\n",
    "strain_centroid_dic = {}\n",
    "i = 0\n",
    "\n",
    "for strain in os.listdir(cluster_dir):\n",
    "\n",
    "    strain_label = \"%s_%s\" % (species,letter_list[i])\n",
    "    df = pd.read_csv(\"%s/%s\" % (cluster_dir,strain),index_col=0)\n",
    "    strain_snv_dic[strain_label] = df\n",
    "    strain_centroid_dic[strain_label] = df.median()\n",
    "    i+=1"
   ]
  },
  {
   "cell_type": "code",
   "execution_count": null,
   "id": "e2a879b2",
   "metadata": {},
   "outputs": [],
   "source": [
    "strain_centroid_dic = pd.DataFrame(strain_centroid_dic)\n",
    "spec_strain_df = spec_df.loc[species]*strain_centroid_dic.T"
   ]
  },
  {
   "cell_type": "code",
   "execution_count": 6,
   "id": "5daea35d",
   "metadata": {},
   "outputs": [],
   "source": [
    "spec_strain_df = {}"
   ]
  },
  {
   "cell_type": "code",
   "execution_count": 7,
   "id": "ec290e7b",
   "metadata": {},
   "outputs": [],
   "source": [
    "tot_strain_df = pd.DataFrame(columns=config.dates.index)"
   ]
  },
  {
   "cell_type": "code",
   "execution_count": 8,
   "id": "0796353c",
   "metadata": {},
   "outputs": [
    {
     "name": "stdout",
     "output_type": "stream",
     "text": [
      "True\n",
      "True\n",
      "True\n",
      "True\n",
      "True\n",
      "True\n",
      "True\n",
      "False\n",
      "False\n",
      "False\n",
      "True\n"
     ]
    }
   ],
   "source": [
    "for species in all_species:\n",
    "    \n",
    "    cluster_dir = \"%s/clusters/Poyet/%s/%s\" % (analysis_dir,config.host,species)\n",
    "\n",
    "    strain_snv_dic = {}\n",
    "    strain_centroid_dic = {}\n",
    "    i = 0\n",
    "\n",
    "    for strain in os.listdir(cluster_dir):\n",
    "        \n",
    "        strain_label = \"%s_%s\" % (species,letter_list[i])\n",
    "        df = pd.read_csv(\"%s/%s\" % (cluster_dir,strain),index_col=0)\n",
    "        strain_snv_dic[strain_label] = df\n",
    "        strain_centroid_dic[strain_label] = df.median()\n",
    "        \n",
    "        print(strain_centroid_dic[strain_label].min() == 1)\n",
    "        \n",
    "        i+=1\n",
    "    \n",
    "    strain_centroid_dic = pd.DataFrame(strain_centroid_dic)\n",
    "    \n",
    "    if strain_centroid_dic.shape[1] < 2:\n",
    "        if strain_centroid_dic[\"%s_%s\" % (species,letter_list[0])].min() != 1.0:\n",
    "            strain_centroid_dic[\"%s_%s\" % (species,letter_list[1])] = 1 - strain_centroid_dic[\"%s_%s\" % (species,letter_list[0])]\n",
    "\n",
    "    spec_strain_df = spec_df.loc[species]*strain_centroid_dic.T\n",
    "    \n",
    "    for idx in spec_strain_df.index:\n",
    "        tot_strain_df.loc[idx] = spec_strain_df.loc[idx]"
   ]
  },
  {
   "cell_type": "code",
   "execution_count": 9,
   "id": "8aedda2d",
   "metadata": {},
   "outputs": [
    {
     "data": {
      "text/plain": [
       "Index([u'Eubacterium_eligens_61678_A', u'Bifidobacterium_adolescentis_56815_A',\n",
       "       u'Ruminococcus_bicirculans_59300_A',\n",
       "       u'Faecalibacterium_prausnitzii_62201_A', u'Dialister_invisus_61905_A',\n",
       "       u'Bacteroides_uniformis_57318_A', u'Eubacterium_rectale_56927_A',\n",
       "       u'Bacteroides_xylanisolvens_57185_A',\n",
       "       u'Bacteroides_xylanisolvens_57185_B', u'Bacteroides_ovatus_58035_A',\n",
       "       u'Bacteroides_ovatus_58035_B', u'Faecalibacterium_prausnitzii_61481_A',\n",
       "       u'Faecalibacterium_prausnitzii_61481_B',\n",
       "       u'Bacteroides_fragilis_54507_A'],\n",
       "      dtype='object')"
      ]
     },
     "execution_count": 9,
     "metadata": {},
     "output_type": "execute_result"
    }
   ],
   "source": [
    "tot_strain_df.index"
   ]
  },
  {
   "cell_type": "code",
   "execution_count": null,
   "id": "19c1b4e5",
   "metadata": {},
   "outputs": [],
   "source": [
    "fig,ax = plt.subplots(figsize=(12,8))\n",
    "tot_strain_df.loc[\"Ruminococcus_bromii_62047_A\"].plot(legend=None,ax=ax)\n",
    "tot_strain_df.loc[\"Bacteroides_vulgatus_57955_B\"].plot(legend=None,ax=ax)\n",
    "\n",
    "#ax.semilogy()"
   ]
  },
  {
   "cell_type": "code",
   "execution_count": null,
   "id": "c6978225",
   "metadata": {},
   "outputs": [],
   "source": [
    "tot_strain_df.loc[\"Ruminococcus_bromii_62047_A\"].dropna().plot()"
   ]
  },
  {
   "cell_type": "code",
   "execution_count": null,
   "id": "49ab8069",
   "metadata": {},
   "outputs": [],
   "source": [
    "tot_strain_df.loc[\"Bacteroides_cellulosilyticus_58046_A\"].dropna()"
   ]
  },
  {
   "cell_type": "code",
   "execution_count": null,
   "id": "79d2f64c",
   "metadata": {},
   "outputs": [],
   "source": [
    "tot_strain_df.loc[\"Bacteroides_massiliensis_44749_A\"].dropna()"
   ]
  },
  {
   "cell_type": "code",
   "execution_count": null,
   "id": "a788bd0c",
   "metadata": {},
   "outputs": [],
   "source": [
    "tot_strain_df.columns = config.dates.loc[tot_strain_df.columns]"
   ]
  },
  {
   "cell_type": "code",
   "execution_count": null,
   "id": "b98535e9",
   "metadata": {},
   "outputs": [],
   "source": [
    "obs_data = tot_strain_df.loc[\"Bacteroides_ovatus_58035_A\"].dropna()\n",
    "strain_dates = obs_data.index\n",
    "train_num = int(len(obs_data)/2) - 1\n",
    "train_num\n",
    "train_num = np.argmin(abs((strain_dates.values - strain_dates[-1]/2)))"
   ]
  },
  {
   "cell_type": "code",
   "execution_count": 14,
   "id": "f5333a7f",
   "metadata": {},
   "outputs": [],
   "source": [
    "from sklearn.metrics import auc"
   ]
  },
  {
   "cell_type": "code",
   "execution_count": 112,
   "id": "0de866c2",
   "metadata": {},
   "outputs": [],
   "source": [
    "dates = config.dates"
   ]
  },
  {
   "cell_type": "code",
   "execution_count": 130,
   "id": "4ac8e8a8",
   "metadata": {},
   "outputs": [],
   "source": [
    "strain = \"Faecalibacterium_prausnitzii_61481_B\"\n",
    "obs_data = tot_strain_df.loc[strain]\n",
    "obs_data = obs_data[obs_data.notna()]\n",
    "strain_dates = dates.loc[obs_data.index].sort_values()\n",
    "obs_data = obs_data.loc[strain_dates.index]\n",
    "#train_num = int(len(obs_data)/2)\n",
    "train_num = np.argmin(abs((strain_dates.values - 2.0*strain_dates[-1]/3))) "
   ]
  },
  {
   "cell_type": "code",
   "execution_count": 131,
   "id": "dd860230",
   "metadata": {},
   "outputs": [
    {
     "data": {
      "text/plain": [
       "36"
      ]
     },
     "execution_count": 131,
     "metadata": {},
     "output_type": "execute_result"
    }
   ],
   "source": [
    "train_num "
   ]
  },
  {
   "cell_type": "code",
   "execution_count": 132,
   "id": "b695c5c8",
   "metadata": {},
   "outputs": [
    {
     "data": {
      "text/plain": [
       "array([[30]])"
      ]
     },
     "execution_count": 132,
     "metadata": {},
     "output_type": "execute_result"
    }
   ],
   "source": [
    "np.argwhere(strain_dates.index == config.dates.index[train_num])"
   ]
  },
  {
   "cell_type": "code",
   "execution_count": 133,
   "id": "d7925422",
   "metadata": {},
   "outputs": [
    {
     "data": {
      "text/plain": [
       "36"
      ]
     },
     "execution_count": 133,
     "metadata": {},
     "output_type": "execute_result"
    }
   ],
   "source": [
    "train_num"
   ]
  },
  {
   "cell_type": "code",
   "execution_count": 134,
   "id": "001b9a73",
   "metadata": {},
   "outputs": [
    {
     "data": {
      "text/plain": [
       "0.03031860706799132"
      ]
     },
     "execution_count": 134,
     "metadata": {},
     "output_type": "execute_result"
    }
   ],
   "source": [
    "obs_data[:train_num].mean()"
   ]
  },
  {
   "cell_type": "code",
   "execution_count": 135,
   "id": "be978fc3",
   "metadata": {},
   "outputs": [
    {
     "data": {
      "text/plain": [
       "0.03492027564206663"
      ]
     },
     "execution_count": 135,
     "metadata": {},
     "output_type": "execute_result"
    }
   ],
   "source": [
    "auc(strain_dates[:train_num],obs_data[:train_num])/(strain_dates[train_num] - strain_dates[0])"
   ]
  },
  {
   "cell_type": "code",
   "execution_count": 136,
   "id": "9a39ef07",
   "metadata": {},
   "outputs": [
    {
     "data": {
      "text/plain": [
       "[<matplotlib.lines.Line2D at 0x2ac7e973b390>]"
      ]
     },
     "execution_count": 136,
     "metadata": {},
     "output_type": "execute_result"
    },
    {
     "data": {
      "image/png": "[encoded data removed]",
      "text/plain": [
       "<Figure size 432x288 with 1 Axes>"
      ]
     },
     "metadata": {
      "needs_background": "light"
     },
     "output_type": "display_data"
    }
   ],
   "source": [
    "plt.plot(obs_data.values[:train_num])\n",
    "plt.plot(obs_data.values[train_num:])"
   ]
  },
  {
   "cell_type": "code",
   "execution_count": null,
   "id": "6a2ba968",
   "metadata": {},
   "outputs": [],
   "source": [
    "obs_data.values.mean()"
   ]
  },
  {
   "cell_type": "code",
   "execution_count": null,
   "id": "7ce612b6",
   "metadata": {},
   "outputs": [],
   "source": [
    "obs_data"
   ]
  },
  {
   "cell_type": "code",
   "execution_count": 14,
   "id": "8ec4b19c",
   "metadata": {},
   "outputs": [],
   "source": [
    "train_num = int(len(obs_data)/2) "
   ]
  },
  {
   "cell_type": "code",
   "execution_count": null,
   "id": "af901502",
   "metadata": {},
   "outputs": [],
   "source": [
    "train_num = np.argmin(abs((strain_dates.values - strain_dates[-1]/2))) "
   ]
  },
  {
   "cell_type": "code",
   "execution_count": null,
   "id": "a50ede82",
   "metadata": {},
   "outputs": [],
   "source": [
    "plt.plot(strain_dates.values,obs_data.values)\n",
    "plt.axvline(strain_dates.values[train_num])"
   ]
  },
  {
   "cell_type": "code",
   "execution_count": null,
   "id": "ba60cc42",
   "metadata": {},
   "outputs": [],
   "source": [
    "obs_data[:120]"
   ]
  },
  {
   "cell_type": "code",
   "execution_count": null,
   "id": "75ca4098",
   "metadata": {},
   "outputs": [],
   "source": [
    "fig,ax = plt.subplots(figsize=(12,8))\n",
    "\n",
    "tot_strain_df.loc[\"Faecalibacterium_prausnitzii_61481_A\"].dropna().plot()\n",
    "tot_strain_df.loc[\"Faecalibacterium_prausnitzii_61481_B\"].dropna().plot()\n",
    "ax.axvline(strain_dates[train_num])"
   ]
  },
  {
   "cell_type": "code",
   "execution_count": null,
   "id": "b975fc7a",
   "metadata": {},
   "outputs": [],
   "source": [
    "tot_strain_df"
   ]
  },
  {
   "cell_type": "code",
   "execution_count": null,
   "id": "3cdf9f3f",
   "metadata": {},
   "outputs": [],
   "source": [
    "tot_strain_df.to_csv(\"strains_%s.csv\" % config.host)"
   ]
  },
  {
   "cell_type": "code",
   "execution_count": null,
   "id": "a3a1b496",
   "metadata": {},
   "outputs": [],
   "source": [
    "fig,ax = plt.subplots(figsize=(12,8))\n",
    "tot_strain_df.T.plot(legend=None,ax=ax)\n",
    "plt.semilogy();"
   ]
  },
  {
   "cell_type": "code",
   "execution_count": null,
   "id": "75bb8e73",
   "metadata": {},
   "outputs": [],
   "source": [
    "fig,ax = plt.subplots(figsize=(12,8))\n",
    "\n",
    "tot_strain_df.loc[\"Bacteroides_vulgatus_57955_A\"].dropna().plot()\n",
    "tot_strain_df.loc[\"Bacteroides_vulgatus_57955_B\"].dropna().plot()\n",
    "tot_strain_df.loc[\"Bacteroides_vulgatus_57955_C\"].dropna().plot()\n",
    "\n",
    "plt.semilogy();"
   ]
  },
  {
   "cell_type": "code",
   "execution_count": null,
   "id": "dd370483",
   "metadata": {},
   "outputs": [],
   "source": []
  }
 ],
 "metadata": {
  "kernelspec": {
   "display_name": "strain_stability_env",
   "language": "python",
   "name": "strain_stability_env"
  },
  "language_info": {
   "codemirror_mode": {
    "name": "ipython",
    "version": 2
   },
   "file_extension": ".py",
   "mimetype": "text/x-python",
   "name": "python",
   "nbconvert_exporter": "python",
   "pygments_lexer": "ipython2",
   "version": "2.7.15"
  }
 },
 "nbformat": 4,
 "nbformat_minor": 5
}
