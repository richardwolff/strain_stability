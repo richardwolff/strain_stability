{
 "cells": [
  {
   "cell_type": "code",
   "execution_count": 1,
   "id": "b459bb1c",
   "metadata": {},
   "outputs": [],
   "source": [
    "import state_utils\n",
    "\n",
    "from numba import jit,njit \n",
    "import state_utils\n",
    "\n",
    "state_utils.set_cohort(\"Poyet\")\n",
    "state_utils.set_host(\"am\")\n",
    "state_utils.set_midas_db_type(\"standard\")\n",
    "\n",
    "\n",
    "import pandas as pd\n",
    "import numpy as np\n",
    "import time\n",
    "from scipy.stats import gamma\n",
    "import config\n",
    "import slm_utils\n",
    "from scipy.stats import chisquare\n",
    "from parse_midas_data import parse_good_species_list\n",
    "import sys\n",
    "\n",
    "import matplotlib.pyplot as plt"
   ]
  },
  {
   "cell_type": "code",
   "execution_count": 29,
   "id": "48089f11",
   "metadata": {},
   "outputs": [],
   "source": [
    "## calculates the chi-squared test statistic for the goodness of fit test\n",
    "def calc_chisq(obs_data,dates_diff,train_num):\n",
    "    \n",
    "    ## fit the SLM on the first train_num observations\n",
    "    params = slm_utils.fit_SLM_params(obs_data,n=train_num)\n",
    "\n",
    "    ## initialize SLM \n",
    "    S = slm_utils.slm(sigma=params[\"sigma\"],K=params[\"K\"],tau=1,delta_t=1.0/100)\n",
    "\n",
    "    ## form quin_bins number of bins, expect to have 5 (= 4 + 1) observations in each bin, per recommendations re: chisquare test\n",
    "    ## https://docs.scipy.org/doc/scipy/reference/generated/scipy.stats.chisquare.html\n",
    "    quin_bins = len(obs_data)//4\n",
    "    \n",
    "    bin_list = []\n",
    "    \n",
    "    ## get bin of initial value w/r/t stationary distribution\n",
    "    init_bin = int(np.digitize(obs_data.iloc[train_num],S.afd.ppf(np.linspace(0,100,quin_bins + 2)/100)[1:])) - 1\n",
    "    bin_list.append(init_bin)\n",
    "    \n",
    "    ## now get bins of all subsequent timepoints \n",
    "    ## essentially, build an empirical probability distribution for abundance at time t + delta_t given abundance at t\n",
    "    ## then, figure out which quintile bin of this empirical distribution the actual observation lies in\n",
    "    for i in range(train_num,len(obs_data) - 1):\n",
    "        \n",
    "        T = dates_diff[i+1]\n",
    "        num_iters = int(1.0*T/(1.0*S.delta_t))\n",
    "\n",
    "        init_val = obs_data.iloc[i]\n",
    "        num_reps = 10000\n",
    "        S.set_init_val(obs_data.iloc[i])\n",
    "        S.run_sim(num_iters,num_reps,record_steps=False)\n",
    "\n",
    "        bin_list.append(np.digitize(obs_data.iloc[i+1],np.percentile(S.x_i,np.linspace(0,100,quin_bins))))\n",
    "    \n",
    "    ## calculate chisquare test statistic relative to uniform expectation\n",
    "    return chisquare(np.unique(bin_list,return_counts=True)[1])[1]  \n"
   ]
  },
  {
   "cell_type": "code",
   "execution_count": 25,
   "id": "b0884946",
   "metadata": {},
   "outputs": [
    {
     "data": {
      "text/plain": [
       "19"
      ]
     },
     "execution_count": 25,
     "metadata": {},
     "output_type": "execute_result"
    }
   ],
   "source": [
    "quin_bins = len(obs_data)//10\n",
    "quin_bins"
   ]
  },
  {
   "cell_type": "code",
   "execution_count": 26,
   "id": "e2520d40",
   "metadata": {},
   "outputs": [
    {
     "name": "stderr",
     "output_type": "stream",
     "text": [
      "Processing Bacteroides_vulgatus_57955 \n"
     ]
    }
   ],
   "source": [
    "data_dir=config.data_directory\n",
    "\n",
    "strain_df = pd.read_csv(\"strains_%s.csv\"%config.host,index_col=0)\n",
    "strain = strain_df.index[-1]\n",
    "\n",
    "species = strain[:-2]\n",
    "\n",
    "chisq_dic = {}\n",
    "\n",
    "good_samples = pd.read_csv(\"%s/snps/%s/snps_summary.txt\" % (data_dir,species),index_col=0,sep=\"\\t\").index\n",
    "sys.stderr.write(\"Processing %s \\n\" % species)\n",
    "obs_data = strain_df.loc[strain]\n",
    "\n",
    "obs_data = obs_data[good_samples]\n",
    "obs_data = obs_data[obs_data.notna()]\n",
    "if len(obs_data) > 25:\n",
    "    strain_dates = config.dates.loc[obs_data.index].sort_values()\n",
    "\n",
    "    ## be sure observed data is in correct chronological order                \n",
    "    obs_data = obs_data.loc[strain_dates.index]\n",
    "    strain_dates_diff = strain_dates.diff()\n",
    "    train_num = len(obs_data)//3\n",
    "    #chisq_dic[strain] = calc_chisq(obs_data,strain_dates_diff,train_num)\n",
    "    chisq_dic[strain] = [calc_chisq(obs_data,strain_dates_diff,train_num) for _ in range(100)]"
   ]
  },
  {
   "cell_type": "code",
   "execution_count": 27,
   "id": "44888199",
   "metadata": {},
   "outputs": [
    {
     "data": {
      "text/plain": [
       "[]"
      ]
     },
     "execution_count": 27,
     "metadata": {},
     "output_type": "execute_result"
    },
    {
     "data": {
      "image/png": "[encoded data removed]",
      "text/plain": [
       "<Figure size 432x288 with 1 Axes>"
      ]
     },
     "metadata": {
      "needs_background": "light"
     },
     "output_type": "display_data"
    }
   ],
   "source": [
    "plt.hist(chisq_dic['Bacteroides_vulgatus_57955_C'],bins=np.logspace(-4,0,20))\n",
    "plt.xlim([1e-5,1]);\n",
    "plt.semilogx()"
   ]
  },
  {
   "cell_type": "code",
   "execution_count": null,
   "id": "70a203bd",
   "metadata": {},
   "outputs": [],
   "source": [
    "plt.plot(strain_dates.values,obs_data.values)\n",
    "plt.axvline(strain_dates.values[train_num])"
   ]
  },
  {
   "cell_type": "code",
   "execution_count": null,
   "id": "43a29ec5",
   "metadata": {},
   "outputs": [],
   "source": [
    "train_num"
   ]
  },
  {
   "cell_type": "code",
   "execution_count": 28,
   "id": "f7d93f39",
   "metadata": {},
   "outputs": [
    {
     "data": {
      "text/plain": [
       "0.002128217629694091"
      ]
     },
     "execution_count": 28,
     "metadata": {},
     "output_type": "execute_result"
    }
   ],
   "source": [
    "np.median(chisq_dic['Bacteroides_vulgatus_57955_C'])"
   ]
  },
  {
   "cell_type": "code",
   "execution_count": null,
   "id": "bf2a2707",
   "metadata": {},
   "outputs": [],
   "source": []
  }
 ],
 "metadata": {
  "kernelspec": {
   "display_name": "strain_stability_env",
   "language": "python",
   "name": "strain_stability_env"
  },
  "language_info": {
   "codemirror_mode": {
    "name": "ipython",
    "version": 2
   },
   "file_extension": ".py",
   "mimetype": "text/x-python",
   "name": "python",
   "nbconvert_exporter": "python",
   "pygments_lexer": "ipython2",
   "version": "2.7.15"
  }
 },
 "nbformat": 4,
 "nbformat_minor": 5
}
