{
 "cells": [
  {
   "cell_type": "code",
   "execution_count": 4,
   "id": "46b08a79",
   "metadata": {},
   "outputs": [],
   "source": [
    "import pandas as pd\n",
    "base_dir = \"/u/scratch/r/rwolff/Poyet_midas_output_spu/merged_midas_output\""
   ]
  },
  {
   "cell_type": "code",
   "execution_count": 18,
   "id": "6276f268",
   "metadata": {},
   "outputs": [],
   "source": [
    "host = \"ae\""
   ]
  },
  {
   "cell_type": "code",
   "execution_count": 19,
   "id": "4d772f8c",
   "metadata": {},
   "outputs": [],
   "source": [
    "df = pd.read_csv(\"%s/%s/species/coverage.txt\" % (base_dir,host),index_col=0,sep='\\t')"
   ]
  },
  {
   "cell_type": "code",
   "execution_count": 20,
   "id": "792d815d",
   "metadata": {},
   "outputs": [
    {
     "name": "stderr",
     "output_type": "stream",
     "text": [
      "/u/home/r/rwolff/.conda/envs/strain_stability_env/lib/python2.7/site-packages/ipykernel_launcher.py:1: FutureWarning: The signature of `Series.to_csv` was aligned to that of `DataFrame.to_csv`, and argument 'header' will change its default value from False to True: please pass an explicit value to suppress this warning.\n",
      "  \"\"\"Entry point for launching an IPython kernel.\n"
     ]
    }
   ],
   "source": [
    "pd.Series((df.loc[(df > 3).T.sum() > 1].index)).to_csv(\"/%s/%s/species_union.txt\" % (base_dir,host),index=None)"
   ]
  },
  {
   "cell_type": "code",
   "execution_count": null,
   "id": "79a3fecd",
   "metadata": {},
   "outputs": [],
   "source": []
  }
 ],
 "metadata": {
  "kernelspec": {
   "display_name": "strain_stability_env",
   "language": "python",
   "name": "strain_stability_env"
  },
  "language_info": {
   "codemirror_mode": {
    "name": "ipython",
    "version": 2
   },
   "file_extension": ".py",
   "mimetype": "text/x-python",
   "name": "python",
   "nbconvert_exporter": "python",
   "pygments_lexer": "ipython2",
   "version": "2.7.15"
  }
 },
 "nbformat": 4,
 "nbformat_minor": 5
}
