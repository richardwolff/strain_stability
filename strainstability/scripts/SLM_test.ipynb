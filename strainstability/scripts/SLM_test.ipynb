{
 "cells": [
  {
   "cell_type": "code",
   "execution_count": 116,
   "id": "80f39ccd",
   "metadata": {
    "slideshow": {
     "slide_type": "skip"
    }
   },
   "outputs": [],
   "source": [
    "import state_utils\n",
    "\n",
    "state_utils.set_cohort(\"Poyet\")\n",
    "state_utils.set_host(\"am\")\n",
    "state_utils.set_midas_db_type(\"standard\")\n",
    "#state_utils.set_cohort(\"Roodgar\")\n",
    "\n",
    "import pandas as pd\n",
    "import matplotlib.pyplot as plt\n",
    "import numpy as np\n",
    "import time\n",
    "from scipy.stats import gamma\n",
    "from numba import jit\n",
    "from numba.typed import List\n",
    "import config\n",
    "import slm_utils\n",
    "from scipy import stats\n",
    "from scipy.stats import chisquare\n",
    "\n",
    "import matplotlib\n",
    "\n",
    "matplotlib.rc('xtick', labelsize=30) \n",
    "matplotlib.rc('ytick', labelsize=30) \n",
    "\n",
    "plt.rcParams[\"xtick.major.size\"] = 4\n",
    "plt.rcParams[\"xtick.major.width\"] = 1\n",
    "\n",
    "plt.rcParams[\"xtick.minor.size\"] = 6\n",
    "plt.rcParams[\"xtick.minor.width\"] = 2\n",
    "\n",
    "plt.rcParams[\"ytick.major.size\"] = 6\n",
    "\n",
    "\n",
    "plt.rcParams.update({\n",
    "  \"text.usetex\": True,\n",
    "  \"font.family\": \"Sans-serif\"\n",
    "})\n",
    "\n",
    "import matplotlib.patches as mpatches\n"
   ]
  },
  {
   "cell_type": "markdown",
   "id": "6928cc87",
   "metadata": {
    "slideshow": {
     "slide_type": "slide"
    }
   },
   "source": [
    "We simulate the SLM using the Euler-Maruyama technique. That is, we iterate the following equation: \n",
    "\n",
    "$$x(t+1) = x(t) + \\frac{x(t)}{\\tau}\\left(1 - \\frac{x(t)}{K}\\right)\\delta_t + \\sqrt{\\frac{\\sigma}{\\tau}}x(t)\\xi(t)\\sqrt{\\delta_t},$$ \n",
    "\n",
    "where $\\xi(t)$ is a draw from a standard normal distribution. $\\sigma$ and $K$ are determined directly from the data. Specifically, if $\\bar{x}$ is the mean abundance, and $\\text{std}(x)$ is its standard deviation, then \n",
    "\n",
    "$$\\sigma = \\frac{2}{\\left(\\frac{\\bar{x}}{\\text{std}(x)}\\right)^2+1}$$\n",
    "\n",
    "$$K = \\frac{\\bar{x}}{1 - \\frac{\\sigma}{2}} $$\n",
    "\n",
    "To perform cross-fold validation and test the **predictive** capabilities of the SLM, we determine $\\bar{x}$ and $\\text{std}(x)$ from the first quarter of the data, and then test the SLM on the entire trajectory. \n",
    "\n",
    "But how do we determine the fit of the SLM?\n",
    "\n",
    "The high level idea here is to see whether the series of transitions between subsequent timepoints, considered as a whole, agrees with what we would expect under the SLM. To determine this, we're going to:\n",
    "* simulate the SLM between each pair of subsequent time points (i.e. start simulations at time $t=0$, simulate until $t=1$)\n",
    "* determine the distribution of simulated final values (i.e. at $t=1$)\n",
    "* bin these values into quintiles\n",
    "* determine which quintile the observed value (i.e. at $t=1$) falls into\n",
    "* repeat for every pair of timepoints ($1 \\rightarrow 2, 2 \\rightarrow 3$, etc.)\n",
    "\n",
    "Under the null hypothesis that the SLM holds, the distribution of these quintile bins across all timepoints should be uniform. The reason for this is that, definitionally, quintiles are regions of equal probability - at each timepoint, there should be an equal chance that the data lies in each quintile (specifically 1/(number of quintiles)).\n",
    "\n",
    "Let's see how this works in practice, starting at the species level. "
   ]
  },
  {
   "cell_type": "code",
   "execution_count": null,
   "id": "b2b8f621",
   "metadata": {
    "slideshow": {
     "slide_type": "skip"
    }
   },
   "outputs": [],
   "source": [
    "def E_t(K,x0,t,tau):\n",
    "    return K/(1+((K-x0)/x0)*np.exp(-t/tau))"
   ]
  },
  {
   "cell_type": "code",
   "execution_count": 5,
   "id": "e17cc3c4",
   "metadata": {},
   "outputs": [],
   "source": [
    "data_dir = config.data_directory\n",
    "dates = config.dates\n",
    "\n",
    "#spec_df = pd.read_csv(\"%sspecies/relative_abundance.txt.bz2\" % data_dir,index_col=0,sep=\"\\t\")\n"
   ]
  },
  {
   "cell_type": "markdown",
   "id": "935ff0f1",
   "metadata": {},
   "source": [
    "Here's the abundance trajectory for *B. fragilis* in host *am* from Poyet:"
   ]
  },
  {
   "cell_type": "code",
   "execution_count": null,
   "id": "b8d428c1",
   "metadata": {},
   "outputs": [],
   "source": [
    "species = \"Bacteroides_ovatus_58035_B\"\n",
    "obs_data = spec_df.loc[species]\n",
    "params = slm_utils.fit_SLM_params(obs_data,n=train_num)\n",
    "params"
   ]
  },
  {
   "cell_type": "code",
   "execution_count": 98,
   "id": "47e00ba9",
   "metadata": {},
   "outputs": [
    {
     "data": {
      "text/html": [
       "<div>\n",
       "<style scoped>\n",
       "    .dataframe tbody tr th:only-of-type {\n",
       "        vertical-align: middle;\n",
       "    }\n",
       "\n",
       "    .dataframe tbody tr th {\n",
       "        vertical-align: top;\n",
       "    }\n",
       "\n",
       "    .dataframe thead th {\n",
       "        text-align: right;\n",
       "    }\n",
       "</style>\n",
       "<table border=\"1\" class=\"dataframe\">\n",
       "  <thead>\n",
       "    <tr style=\"text-align: right;\">\n",
       "      <th>timepoint</th>\n",
       "      <th>0</th>\n",
       "      <th>1</th>\n",
       "      <th>2</th>\n",
       "      <th>5</th>\n",
       "      <th>6</th>\n",
       "      <th>7</th>\n",
       "      <th>9</th>\n",
       "      <th>10</th>\n",
       "      <th>12</th>\n",
       "      <th>13</th>\n",
       "      <th>...</th>\n",
       "      <th>524</th>\n",
       "      <th>525</th>\n",
       "      <th>526</th>\n",
       "      <th>531</th>\n",
       "      <th>532</th>\n",
       "      <th>533</th>\n",
       "      <th>534</th>\n",
       "      <th>537</th>\n",
       "      <th>538</th>\n",
       "      <th>539</th>\n",
       "    </tr>\n",
       "  </thead>\n",
       "  <tbody>\n",
       "    <tr>\n",
       "      <th>Phascolarctobacterium_sp_59817_A</th>\n",
       "      <td>NaN</td>\n",
       "      <td>NaN</td>\n",
       "      <td>NaN</td>\n",
       "      <td>NaN</td>\n",
       "      <td>NaN</td>\n",
       "      <td>0.010803</td>\n",
       "      <td>NaN</td>\n",
       "      <td>0.023785</td>\n",
       "      <td>NaN</td>\n",
       "      <td>0.015467</td>\n",
       "      <td>...</td>\n",
       "      <td>NaN</td>\n",
       "      <td>NaN</td>\n",
       "      <td>NaN</td>\n",
       "      <td>NaN</td>\n",
       "      <td>NaN</td>\n",
       "      <td>NaN</td>\n",
       "      <td>NaN</td>\n",
       "      <td>NaN</td>\n",
       "      <td>NaN</td>\n",
       "      <td>0.017244</td>\n",
       "    </tr>\n",
       "    <tr>\n",
       "      <th>Barnesiella_intestinihominis_62208_A</th>\n",
       "      <td>NaN</td>\n",
       "      <td>NaN</td>\n",
       "      <td>NaN</td>\n",
       "      <td>NaN</td>\n",
       "      <td>NaN</td>\n",
       "      <td>0.013125</td>\n",
       "      <td>NaN</td>\n",
       "      <td>NaN</td>\n",
       "      <td>NaN</td>\n",
       "      <td>NaN</td>\n",
       "      <td>...</td>\n",
       "      <td>NaN</td>\n",
       "      <td>NaN</td>\n",
       "      <td>NaN</td>\n",
       "      <td>NaN</td>\n",
       "      <td>NaN</td>\n",
       "      <td>NaN</td>\n",
       "      <td>NaN</td>\n",
       "      <td>NaN</td>\n",
       "      <td>0.016053</td>\n",
       "      <td>NaN</td>\n",
       "    </tr>\n",
       "    <tr>\n",
       "      <th>Ruminococcus_bicirculans_59300_A</th>\n",
       "      <td>NaN</td>\n",
       "      <td>0.025341</td>\n",
       "      <td>0.059925</td>\n",
       "      <td>NaN</td>\n",
       "      <td>NaN</td>\n",
       "      <td>0.016109</td>\n",
       "      <td>NaN</td>\n",
       "      <td>NaN</td>\n",
       "      <td>NaN</td>\n",
       "      <td>NaN</td>\n",
       "      <td>...</td>\n",
       "      <td>NaN</td>\n",
       "      <td>NaN</td>\n",
       "      <td>NaN</td>\n",
       "      <td>NaN</td>\n",
       "      <td>NaN</td>\n",
       "      <td>NaN</td>\n",
       "      <td>NaN</td>\n",
       "      <td>NaN</td>\n",
       "      <td>NaN</td>\n",
       "      <td>NaN</td>\n",
       "    </tr>\n",
       "    <tr>\n",
       "      <th>Bacteroides_uniformis_57318_A</th>\n",
       "      <td>0.097250</td>\n",
       "      <td>0.106400</td>\n",
       "      <td>0.092371</td>\n",
       "      <td>0.179700</td>\n",
       "      <td>0.140319</td>\n",
       "      <td>0.144183</td>\n",
       "      <td>0.128073</td>\n",
       "      <td>0.116682</td>\n",
       "      <td>0.141561</td>\n",
       "      <td>0.069706</td>\n",
       "      <td>...</td>\n",
       "      <td>0.162765</td>\n",
       "      <td>0.216812</td>\n",
       "      <td>0.238023</td>\n",
       "      <td>0.069904</td>\n",
       "      <td>0.184115</td>\n",
       "      <td>0.187216</td>\n",
       "      <td>0.143129</td>\n",
       "      <td>0.182858</td>\n",
       "      <td>0.149643</td>\n",
       "      <td>0.185502</td>\n",
       "    </tr>\n",
       "    <tr>\n",
       "      <th>Ruminococcus_bromii_62047_A</th>\n",
       "      <td>NaN</td>\n",
       "      <td>0.021448</td>\n",
       "      <td>NaN</td>\n",
       "      <td>NaN</td>\n",
       "      <td>NaN</td>\n",
       "      <td>NaN</td>\n",
       "      <td>NaN</td>\n",
       "      <td>0.158282</td>\n",
       "      <td>0.044124</td>\n",
       "      <td>0.073153</td>\n",
       "      <td>...</td>\n",
       "      <td>NaN</td>\n",
       "      <td>NaN</td>\n",
       "      <td>NaN</td>\n",
       "      <td>NaN</td>\n",
       "      <td>0.034901</td>\n",
       "      <td>0.030704</td>\n",
       "      <td>0.035059</td>\n",
       "      <td>NaN</td>\n",
       "      <td>NaN</td>\n",
       "      <td>0.022633</td>\n",
       "    </tr>\n",
       "    <tr>\n",
       "      <th>Faecalibacterium_prausnitzii_57453_A</th>\n",
       "      <td>NaN</td>\n",
       "      <td>0.020836</td>\n",
       "      <td>NaN</td>\n",
       "      <td>NaN</td>\n",
       "      <td>NaN</td>\n",
       "      <td>0.011354</td>\n",
       "      <td>NaN</td>\n",
       "      <td>NaN</td>\n",
       "      <td>NaN</td>\n",
       "      <td>0.017594</td>\n",
       "      <td>...</td>\n",
       "      <td>NaN</td>\n",
       "      <td>NaN</td>\n",
       "      <td>NaN</td>\n",
       "      <td>NaN</td>\n",
       "      <td>0.017046</td>\n",
       "      <td>0.024570</td>\n",
       "      <td>NaN</td>\n",
       "      <td>NaN</td>\n",
       "      <td>NaN</td>\n",
       "      <td>NaN</td>\n",
       "    </tr>\n",
       "    <tr>\n",
       "      <th>Parabacteroides_merdae_56972_A</th>\n",
       "      <td>NaN</td>\n",
       "      <td>NaN</td>\n",
       "      <td>NaN</td>\n",
       "      <td>NaN</td>\n",
       "      <td>0.079141</td>\n",
       "      <td>0.087541</td>\n",
       "      <td>0.238293</td>\n",
       "      <td>0.097206</td>\n",
       "      <td>0.046594</td>\n",
       "      <td>0.061427</td>\n",
       "      <td>...</td>\n",
       "      <td>NaN</td>\n",
       "      <td>0.041102</td>\n",
       "      <td>0.036063</td>\n",
       "      <td>NaN</td>\n",
       "      <td>0.021560</td>\n",
       "      <td>NaN</td>\n",
       "      <td>NaN</td>\n",
       "      <td>0.060152</td>\n",
       "      <td>0.056929</td>\n",
       "      <td>0.036106</td>\n",
       "    </tr>\n",
       "    <tr>\n",
       "      <th>Bacteroides_stercoris_56735_A</th>\n",
       "      <td>NaN</td>\n",
       "      <td>0.015619</td>\n",
       "      <td>NaN</td>\n",
       "      <td>NaN</td>\n",
       "      <td>0.030357</td>\n",
       "      <td>0.039915</td>\n",
       "      <td>0.025947</td>\n",
       "      <td>0.024356</td>\n",
       "      <td>0.038729</td>\n",
       "      <td>0.051250</td>\n",
       "      <td>...</td>\n",
       "      <td>NaN</td>\n",
       "      <td>NaN</td>\n",
       "      <td>NaN</td>\n",
       "      <td>NaN</td>\n",
       "      <td>0.025400</td>\n",
       "      <td>NaN</td>\n",
       "      <td>0.024139</td>\n",
       "      <td>0.035670</td>\n",
       "      <td>0.031252</td>\n",
       "      <td>0.025288</td>\n",
       "    </tr>\n",
       "    <tr>\n",
       "      <th>Eubacterium_rectale_56927_A</th>\n",
       "      <td>0.017037</td>\n",
       "      <td>0.005719</td>\n",
       "      <td>NaN</td>\n",
       "      <td>NaN</td>\n",
       "      <td>NaN</td>\n",
       "      <td>0.007644</td>\n",
       "      <td>NaN</td>\n",
       "      <td>0.005587</td>\n",
       "      <td>0.014266</td>\n",
       "      <td>0.018588</td>\n",
       "      <td>...</td>\n",
       "      <td>NaN</td>\n",
       "      <td>NaN</td>\n",
       "      <td>NaN</td>\n",
       "      <td>0.037593</td>\n",
       "      <td>0.016587</td>\n",
       "      <td>0.015229</td>\n",
       "      <td>0.030234</td>\n",
       "      <td>0.005451</td>\n",
       "      <td>0.014809</td>\n",
       "      <td>0.008561</td>\n",
       "    </tr>\n",
       "    <tr>\n",
       "      <th>Eubacterium_rectale_56927_B</th>\n",
       "      <td>0.170371</td>\n",
       "      <td>0.037176</td>\n",
       "      <td>NaN</td>\n",
       "      <td>NaN</td>\n",
       "      <td>NaN</td>\n",
       "      <td>0.059624</td>\n",
       "      <td>NaN</td>\n",
       "      <td>0.039109</td>\n",
       "      <td>0.110561</td>\n",
       "      <td>0.137550</td>\n",
       "      <td>...</td>\n",
       "      <td>NaN</td>\n",
       "      <td>NaN</td>\n",
       "      <td>NaN</td>\n",
       "      <td>0.247040</td>\n",
       "      <td>0.120255</td>\n",
       "      <td>0.091373</td>\n",
       "      <td>0.195148</td>\n",
       "      <td>0.024529</td>\n",
       "      <td>0.114771</td>\n",
       "      <td>0.073623</td>\n",
       "    </tr>\n",
       "    <tr>\n",
       "      <th>Bacteroides_xylanisolvens_57185_A</th>\n",
       "      <td>0.015529</td>\n",
       "      <td>0.018527</td>\n",
       "      <td>0.030064</td>\n",
       "      <td>NaN</td>\n",
       "      <td>0.018688</td>\n",
       "      <td>0.015803</td>\n",
       "      <td>0.013927</td>\n",
       "      <td>0.011040</td>\n",
       "      <td>0.019861</td>\n",
       "      <td>0.016163</td>\n",
       "      <td>...</td>\n",
       "      <td>0.020068</td>\n",
       "      <td>0.017086</td>\n",
       "      <td>0.017870</td>\n",
       "      <td>NaN</td>\n",
       "      <td>0.012300</td>\n",
       "      <td>0.015217</td>\n",
       "      <td>0.008056</td>\n",
       "      <td>0.033153</td>\n",
       "      <td>0.025540</td>\n",
       "      <td>0.016950</td>\n",
       "    </tr>\n",
       "    <tr>\n",
       "      <th>Bacteroides_xylanisolvens_57185_B</th>\n",
       "      <td>0.012423</td>\n",
       "      <td>0.012351</td>\n",
       "      <td>0.020043</td>\n",
       "      <td>NaN</td>\n",
       "      <td>0.011213</td>\n",
       "      <td>0.009725</td>\n",
       "      <td>0.008704</td>\n",
       "      <td>0.005520</td>\n",
       "      <td>0.012639</td>\n",
       "      <td>0.009698</td>\n",
       "      <td>...</td>\n",
       "      <td>0.024082</td>\n",
       "      <td>0.021746</td>\n",
       "      <td>0.021444</td>\n",
       "      <td>NaN</td>\n",
       "      <td>0.021867</td>\n",
       "      <td>0.021304</td>\n",
       "      <td>0.014098</td>\n",
       "      <td>0.045208</td>\n",
       "      <td>0.038310</td>\n",
       "      <td>0.024714</td>\n",
       "    </tr>\n",
       "    <tr>\n",
       "      <th>Bacteroides_ovatus_58035_A</th>\n",
       "      <td>0.030280</td>\n",
       "      <td>0.040336</td>\n",
       "      <td>0.069337</td>\n",
       "      <td>0.040993</td>\n",
       "      <td>0.043922</td>\n",
       "      <td>0.034998</td>\n",
       "      <td>0.032755</td>\n",
       "      <td>0.033670</td>\n",
       "      <td>0.042379</td>\n",
       "      <td>0.036872</td>\n",
       "      <td>...</td>\n",
       "      <td>0.025270</td>\n",
       "      <td>0.023217</td>\n",
       "      <td>0.022930</td>\n",
       "      <td>NaN</td>\n",
       "      <td>0.013056</td>\n",
       "      <td>0.015647</td>\n",
       "      <td>0.008107</td>\n",
       "      <td>0.033343</td>\n",
       "      <td>0.027753</td>\n",
       "      <td>0.019567</td>\n",
       "    </tr>\n",
       "    <tr>\n",
       "      <th>Bacteroides_ovatus_58035_B</th>\n",
       "      <td>0.017303</td>\n",
       "      <td>0.018982</td>\n",
       "      <td>0.034668</td>\n",
       "      <td>0.017080</td>\n",
       "      <td>0.019521</td>\n",
       "      <td>0.015689</td>\n",
       "      <td>0.015118</td>\n",
       "      <td>0.011223</td>\n",
       "      <td>0.019263</td>\n",
       "      <td>0.016224</td>\n",
       "      <td>...</td>\n",
       "      <td>0.025270</td>\n",
       "      <td>0.020638</td>\n",
       "      <td>0.021166</td>\n",
       "      <td>NaN</td>\n",
       "      <td>0.015958</td>\n",
       "      <td>0.015647</td>\n",
       "      <td>0.010810</td>\n",
       "      <td>0.033343</td>\n",
       "      <td>0.030528</td>\n",
       "      <td>0.019567</td>\n",
       "    </tr>\n",
       "    <tr>\n",
       "      <th>Bacteroides_vulgatus_57955_A</th>\n",
       "      <td>0.007284</td>\n",
       "      <td>0.004794</td>\n",
       "      <td>0.009040</td>\n",
       "      <td>0.010770</td>\n",
       "      <td>0.008431</td>\n",
       "      <td>0.003597</td>\n",
       "      <td>0.007813</td>\n",
       "      <td>0.006167</td>\n",
       "      <td>0.007761</td>\n",
       "      <td>0.005854</td>\n",
       "      <td>...</td>\n",
       "      <td>0.023116</td>\n",
       "      <td>0.025194</td>\n",
       "      <td>0.022490</td>\n",
       "      <td>0.016765</td>\n",
       "      <td>0.020657</td>\n",
       "      <td>0.017417</td>\n",
       "      <td>0.015347</td>\n",
       "      <td>0.010920</td>\n",
       "      <td>0.007195</td>\n",
       "      <td>0.011012</td>\n",
       "    </tr>\n",
       "    <tr>\n",
       "      <th>Bacteroides_vulgatus_57955_B</th>\n",
       "      <td>0.315859</td>\n",
       "      <td>0.385568</td>\n",
       "      <td>0.297313</td>\n",
       "      <td>0.310177</td>\n",
       "      <td>0.277828</td>\n",
       "      <td>0.260599</td>\n",
       "      <td>0.223250</td>\n",
       "      <td>0.188572</td>\n",
       "      <td>0.161350</td>\n",
       "      <td>0.122232</td>\n",
       "      <td>...</td>\n",
       "      <td>0.280054</td>\n",
       "      <td>0.236428</td>\n",
       "      <td>0.233230</td>\n",
       "      <td>0.169122</td>\n",
       "      <td>0.185317</td>\n",
       "      <td>0.228275</td>\n",
       "      <td>0.218246</td>\n",
       "      <td>0.217766</td>\n",
       "      <td>0.233294</td>\n",
       "      <td>0.233908</td>\n",
       "    </tr>\n",
       "    <tr>\n",
       "      <th>Bacteroides_vulgatus_57955_C</th>\n",
       "      <td>0.080930</td>\n",
       "      <td>0.099614</td>\n",
       "      <td>0.036422</td>\n",
       "      <td>0.115393</td>\n",
       "      <td>0.137956</td>\n",
       "      <td>0.120618</td>\n",
       "      <td>0.090756</td>\n",
       "      <td>0.077531</td>\n",
       "      <td>0.113834</td>\n",
       "      <td>0.159000</td>\n",
       "      <td>...</td>\n",
       "      <td>0.112454</td>\n",
       "      <td>0.099291</td>\n",
       "      <td>0.111697</td>\n",
       "      <td>0.071407</td>\n",
       "      <td>0.088952</td>\n",
       "      <td>0.079474</td>\n",
       "      <td>0.068018</td>\n",
       "      <td>0.105175</td>\n",
       "      <td>0.097777</td>\n",
       "      <td>0.100909</td>\n",
       "    </tr>\n",
       "    <tr>\n",
       "      <th>Bacteroides_fragilis_54507_A</th>\n",
       "      <td>NaN</td>\n",
       "      <td>0.008673</td>\n",
       "      <td>NaN</td>\n",
       "      <td>NaN</td>\n",
       "      <td>NaN</td>\n",
       "      <td>0.012828</td>\n",
       "      <td>NaN</td>\n",
       "      <td>NaN</td>\n",
       "      <td>NaN</td>\n",
       "      <td>0.016716</td>\n",
       "      <td>...</td>\n",
       "      <td>NaN</td>\n",
       "      <td>NaN</td>\n",
       "      <td>NaN</td>\n",
       "      <td>NaN</td>\n",
       "      <td>NaN</td>\n",
       "      <td>NaN</td>\n",
       "      <td>NaN</td>\n",
       "      <td>NaN</td>\n",
       "      <td>0.025003</td>\n",
       "      <td>0.018199</td>\n",
       "    </tr>\n",
       "  </tbody>\n",
       "</table>\n",
       "<p>18 rows × 193 columns</p>\n",
       "</div>"
      ],
      "text/plain": [
       "timepoint                                  0         1         2         5    \\\n",
       "Phascolarctobacterium_sp_59817_A           NaN       NaN       NaN       NaN   \n",
       "Barnesiella_intestinihominis_62208_A       NaN       NaN       NaN       NaN   \n",
       "Ruminococcus_bicirculans_59300_A           NaN  0.025341  0.059925       NaN   \n",
       "Bacteroides_uniformis_57318_A         0.097250  0.106400  0.092371  0.179700   \n",
       "Ruminococcus_bromii_62047_A                NaN  0.021448       NaN       NaN   \n",
       "Faecalibacterium_prausnitzii_57453_A       NaN  0.020836       NaN       NaN   \n",
       "Parabacteroides_merdae_56972_A             NaN       NaN       NaN       NaN   \n",
       "Bacteroides_stercoris_56735_A              NaN  0.015619       NaN       NaN   \n",
       "Eubacterium_rectale_56927_A           0.017037  0.005719       NaN       NaN   \n",
       "Eubacterium_rectale_56927_B           0.170371  0.037176       NaN       NaN   \n",
       "Bacteroides_xylanisolvens_57185_A     0.015529  0.018527  0.030064       NaN   \n",
       "Bacteroides_xylanisolvens_57185_B     0.012423  0.012351  0.020043       NaN   \n",
       "Bacteroides_ovatus_58035_A            0.030280  0.040336  0.069337  0.040993   \n",
       "Bacteroides_ovatus_58035_B            0.017303  0.018982  0.034668  0.017080   \n",
       "Bacteroides_vulgatus_57955_A          0.007284  0.004794  0.009040  0.010770   \n",
       "Bacteroides_vulgatus_57955_B          0.315859  0.385568  0.297313  0.310177   \n",
       "Bacteroides_vulgatus_57955_C          0.080930  0.099614  0.036422  0.115393   \n",
       "Bacteroides_fragilis_54507_A               NaN  0.008673       NaN       NaN   \n",
       "\n",
       "timepoint                                  6         7         9         10   \\\n",
       "Phascolarctobacterium_sp_59817_A           NaN  0.010803       NaN  0.023785   \n",
       "Barnesiella_intestinihominis_62208_A       NaN  0.013125       NaN       NaN   \n",
       "Ruminococcus_bicirculans_59300_A           NaN  0.016109       NaN       NaN   \n",
       "Bacteroides_uniformis_57318_A         0.140319  0.144183  0.128073  0.116682   \n",
       "Ruminococcus_bromii_62047_A                NaN       NaN       NaN  0.158282   \n",
       "Faecalibacterium_prausnitzii_57453_A       NaN  0.011354       NaN       NaN   \n",
       "Parabacteroides_merdae_56972_A        0.079141  0.087541  0.238293  0.097206   \n",
       "Bacteroides_stercoris_56735_A         0.030357  0.039915  0.025947  0.024356   \n",
       "Eubacterium_rectale_56927_A                NaN  0.007644       NaN  0.005587   \n",
       "Eubacterium_rectale_56927_B                NaN  0.059624       NaN  0.039109   \n",
       "Bacteroides_xylanisolvens_57185_A     0.018688  0.015803  0.013927  0.011040   \n",
       "Bacteroides_xylanisolvens_57185_B     0.011213  0.009725  0.008704  0.005520   \n",
       "Bacteroides_ovatus_58035_A            0.043922  0.034998  0.032755  0.033670   \n",
       "Bacteroides_ovatus_58035_B            0.019521  0.015689  0.015118  0.011223   \n",
       "Bacteroides_vulgatus_57955_A          0.008431  0.003597  0.007813  0.006167   \n",
       "Bacteroides_vulgatus_57955_B          0.277828  0.260599  0.223250  0.188572   \n",
       "Bacteroides_vulgatus_57955_C          0.137956  0.120618  0.090756  0.077531   \n",
       "Bacteroides_fragilis_54507_A               NaN  0.012828       NaN       NaN   \n",
       "\n",
       "timepoint                                  12        13   ...       524  \\\n",
       "Phascolarctobacterium_sp_59817_A           NaN  0.015467  ...       NaN   \n",
       "Barnesiella_intestinihominis_62208_A       NaN       NaN  ...       NaN   \n",
       "Ruminococcus_bicirculans_59300_A           NaN       NaN  ...       NaN   \n",
       "Bacteroides_uniformis_57318_A         0.141561  0.069706  ...  0.162765   \n",
       "Ruminococcus_bromii_62047_A           0.044124  0.073153  ...       NaN   \n",
       "Faecalibacterium_prausnitzii_57453_A       NaN  0.017594  ...       NaN   \n",
       "Parabacteroides_merdae_56972_A        0.046594  0.061427  ...       NaN   \n",
       "Bacteroides_stercoris_56735_A         0.038729  0.051250  ...       NaN   \n",
       "Eubacterium_rectale_56927_A           0.014266  0.018588  ...       NaN   \n",
       "Eubacterium_rectale_56927_B           0.110561  0.137550  ...       NaN   \n",
       "Bacteroides_xylanisolvens_57185_A     0.019861  0.016163  ...  0.020068   \n",
       "Bacteroides_xylanisolvens_57185_B     0.012639  0.009698  ...  0.024082   \n",
       "Bacteroides_ovatus_58035_A            0.042379  0.036872  ...  0.025270   \n",
       "Bacteroides_ovatus_58035_B            0.019263  0.016224  ...  0.025270   \n",
       "Bacteroides_vulgatus_57955_A          0.007761  0.005854  ...  0.023116   \n",
       "Bacteroides_vulgatus_57955_B          0.161350  0.122232  ...  0.280054   \n",
       "Bacteroides_vulgatus_57955_C          0.113834  0.159000  ...  0.112454   \n",
       "Bacteroides_fragilis_54507_A               NaN  0.016716  ...       NaN   \n",
       "\n",
       "timepoint                                  525       526       531       532  \\\n",
       "Phascolarctobacterium_sp_59817_A           NaN       NaN       NaN       NaN   \n",
       "Barnesiella_intestinihominis_62208_A       NaN       NaN       NaN       NaN   \n",
       "Ruminococcus_bicirculans_59300_A           NaN       NaN       NaN       NaN   \n",
       "Bacteroides_uniformis_57318_A         0.216812  0.238023  0.069904  0.184115   \n",
       "Ruminococcus_bromii_62047_A                NaN       NaN       NaN  0.034901   \n",
       "Faecalibacterium_prausnitzii_57453_A       NaN       NaN       NaN  0.017046   \n",
       "Parabacteroides_merdae_56972_A        0.041102  0.036063       NaN  0.021560   \n",
       "Bacteroides_stercoris_56735_A              NaN       NaN       NaN  0.025400   \n",
       "Eubacterium_rectale_56927_A                NaN       NaN  0.037593  0.016587   \n",
       "Eubacterium_rectale_56927_B                NaN       NaN  0.247040  0.120255   \n",
       "Bacteroides_xylanisolvens_57185_A     0.017086  0.017870       NaN  0.012300   \n",
       "Bacteroides_xylanisolvens_57185_B     0.021746  0.021444       NaN  0.021867   \n",
       "Bacteroides_ovatus_58035_A            0.023217  0.022930       NaN  0.013056   \n",
       "Bacteroides_ovatus_58035_B            0.020638  0.021166       NaN  0.015958   \n",
       "Bacteroides_vulgatus_57955_A          0.025194  0.022490  0.016765  0.020657   \n",
       "Bacteroides_vulgatus_57955_B          0.236428  0.233230  0.169122  0.185317   \n",
       "Bacteroides_vulgatus_57955_C          0.099291  0.111697  0.071407  0.088952   \n",
       "Bacteroides_fragilis_54507_A               NaN       NaN       NaN       NaN   \n",
       "\n",
       "timepoint                                  533       534       537       538  \\\n",
       "Phascolarctobacterium_sp_59817_A           NaN       NaN       NaN       NaN   \n",
       "Barnesiella_intestinihominis_62208_A       NaN       NaN       NaN  0.016053   \n",
       "Ruminococcus_bicirculans_59300_A           NaN       NaN       NaN       NaN   \n",
       "Bacteroides_uniformis_57318_A         0.187216  0.143129  0.182858  0.149643   \n",
       "Ruminococcus_bromii_62047_A           0.030704  0.035059       NaN       NaN   \n",
       "Faecalibacterium_prausnitzii_57453_A  0.024570       NaN       NaN       NaN   \n",
       "Parabacteroides_merdae_56972_A             NaN       NaN  0.060152  0.056929   \n",
       "Bacteroides_stercoris_56735_A              NaN  0.024139  0.035670  0.031252   \n",
       "Eubacterium_rectale_56927_A           0.015229  0.030234  0.005451  0.014809   \n",
       "Eubacterium_rectale_56927_B           0.091373  0.195148  0.024529  0.114771   \n",
       "Bacteroides_xylanisolvens_57185_A     0.015217  0.008056  0.033153  0.025540   \n",
       "Bacteroides_xylanisolvens_57185_B     0.021304  0.014098  0.045208  0.038310   \n",
       "Bacteroides_ovatus_58035_A            0.015647  0.008107  0.033343  0.027753   \n",
       "Bacteroides_ovatus_58035_B            0.015647  0.010810  0.033343  0.030528   \n",
       "Bacteroides_vulgatus_57955_A          0.017417  0.015347  0.010920  0.007195   \n",
       "Bacteroides_vulgatus_57955_B          0.228275  0.218246  0.217766  0.233294   \n",
       "Bacteroides_vulgatus_57955_C          0.079474  0.068018  0.105175  0.097777   \n",
       "Bacteroides_fragilis_54507_A               NaN       NaN       NaN  0.025003   \n",
       "\n",
       "timepoint                                  539  \n",
       "Phascolarctobacterium_sp_59817_A      0.017244  \n",
       "Barnesiella_intestinihominis_62208_A       NaN  \n",
       "Ruminococcus_bicirculans_59300_A           NaN  \n",
       "Bacteroides_uniformis_57318_A         0.185502  \n",
       "Ruminococcus_bromii_62047_A           0.022633  \n",
       "Faecalibacterium_prausnitzii_57453_A       NaN  \n",
       "Parabacteroides_merdae_56972_A        0.036106  \n",
       "Bacteroides_stercoris_56735_A         0.025288  \n",
       "Eubacterium_rectale_56927_A           0.008561  \n",
       "Eubacterium_rectale_56927_B           0.073623  \n",
       "Bacteroides_xylanisolvens_57185_A     0.016950  \n",
       "Bacteroides_xylanisolvens_57185_B     0.024714  \n",
       "Bacteroides_ovatus_58035_A            0.019567  \n",
       "Bacteroides_ovatus_58035_B            0.019567  \n",
       "Bacteroides_vulgatus_57955_A          0.011012  \n",
       "Bacteroides_vulgatus_57955_B          0.233908  \n",
       "Bacteroides_vulgatus_57955_C          0.100909  \n",
       "Bacteroides_fragilis_54507_A          0.018199  \n",
       "\n",
       "[18 rows x 193 columns]"
      ]
     },
     "execution_count": 98,
     "metadata": {},
     "output_type": "execute_result"
    }
   ],
   "source": [
    "spec_df"
   ]
  },
  {
   "cell_type": "code",
   "execution_count": 105,
   "id": "1a40036e",
   "metadata": {},
   "outputs": [],
   "source": [
    "\n",
    "#spec_df.columns = dates[spec_df.columns]\n",
    "#spec_df = spec_df.reindex(sorted(spec_df.columns), axis=1)\n",
    "spec_df = pd.read_csv(\"strains_%s.csv\" % config.host,index_col=0)\n",
    "spec_df.columns = dates[spec_df.columns]\n",
    "\n",
    "train_num = len(dates)//3\n",
    "\n",
    "species = \"Bacteroides_vulgatus_57955_B\"\n",
    "obs_data = spec_df.loc[species]\n",
    "obs_data = obs_data[obs_data.notna()]\n",
    "params = slm_utils.fit_SLM_params(obs_data,n=train_num)\n",
    "\n",
    "S = slm_utils.slm(sigma=params[\"sigma\"],K=params[\"K\"],tau=1,delta_t=1.0/1000)\n",
    "\n",
    "T = spec_df.columns[-1]\n",
    "num_iters = int(T/(1.0*S.delta_t))\n",
    "num_reps = 1\n",
    "S.run_sim(num_iters,num_reps,record_steps=True)\n",
    "\n",
    "X = np.stack(S.trajectory,axis=0)"
   ]
  },
  {
   "cell_type": "code",
   "execution_count": 100,
   "id": "05050e77",
   "metadata": {
    "scrolled": true
   },
   "outputs": [
    {
     "data": {
      "image/png": "[encoded data removed]",
      "text/plain": [
       "<Figure size 864x576 with 1 Axes>"
      ]
     },
     "metadata": {
      "needs_background": "light"
     },
     "output_type": "display_data"
    }
   ],
   "source": [
    "fig,ax = plt.subplots(figsize=(12,8))\n",
    "\n",
    "ax.plot(obs_data.index,obs_data);\n",
    "\n",
    "ax.grid(True)\n",
    "\n",
    "#x = np.linspace(0,T,num_iters+1)\n",
    "\n",
    "#ax.plot(x,X,alpha=.5);"
   ]
  },
  {
   "cell_type": "markdown",
   "id": "79894f9e",
   "metadata": {},
   "source": [
    "We use the first third of data points (in green) to determine our SLM parameters $\\sigma$ and $K$:"
   ]
  },
  {
   "cell_type": "code",
   "execution_count": 106,
   "id": "f7918af5",
   "metadata": {},
   "outputs": [],
   "source": [
    "train_num_ind = len(spec_df.loc[species].index)//3"
   ]
  },
  {
   "cell_type": "code",
   "execution_count": 107,
   "id": "5ecfe035",
   "metadata": {},
   "outputs": [
    {
     "data": {
      "text/plain": [
       "(0.16853659883235328, 0.37601265849492527)"
      ]
     },
     "execution_count": 107,
     "metadata": {},
     "output_type": "execute_result"
    }
   ],
   "source": [
    "(S.afd.ppf(.05),S.afd.ppf(.95))"
   ]
  },
  {
   "cell_type": "code",
   "execution_count": 138,
   "id": "e755616e",
   "metadata": {},
   "outputs": [
    {
     "data": {
      "image/png": "[encoded data removed]",
      "text/plain": [
       "<Figure size 1152x576 with 1 Axes>"
      ]
     },
     "metadata": {
      "needs_background": "light"
     },
     "output_type": "display_data"
    }
   ],
   "source": [
    "train_num_day = np.percentile(spec_df.loc[species].index.values,33)\n",
    "fig,ax = plt.subplots(figsize=(16,8))\n",
    "spec_df.loc[species].plot(ax=ax,lw=4,zorder=10,label=\"Strain trajectory\")\n",
    "ax.scatter(list(spec_df.loc[species].index)[:train_num_ind],spec_df.loc[species].values[:train_num_ind],s=60,zorder=20,color=\"#4aab80\",edgecolor=\"k\")\n",
    "ax.scatter(list(spec_df.loc[species].index)[train_num_ind:],spec_df.loc[species].values[train_num_ind:],s=60,zorder=20,color=\"#ffcc5c\",edgecolor=\"k\")\n",
    "\n",
    "ax.axhline(S.K,lw=6,color=\"k\",label=r\"$K$\",alpha=.7)\n",
    "\n",
    "ax.axhline(S.afd.ppf(.005),lw=4,color=\"#ff256f\",label=\"99\\% CI\")\n",
    "ax.axhline(S.afd.ppf(.995),lw=4,color=\"#ff256f\")\n",
    "\n",
    "ax.axvline(train_num_day,color=\"k\",lw=3.5)\n",
    "ax.axvspan(-3,train_num_day,color=\"#4aab80\",alpha=.35)\n",
    "ax.axvspan(train_num_day,spec_df.columns.max()+3,color=\"#ffcc5c\",alpha=.3)\n",
    "#ax.semilogy()\n",
    "ax.set_ylim([0,1])\n",
    "ax.set_xlim([-3,max(spec_df.loc[species].index) + 3])\n",
    "ax.set_xlabel(\"Time (days)\",size=40,fontweight=\"bold\")\n",
    "ax.set_ylabel(\"Strain abundance\",size=40,labelpad=25)\n",
    "fig.text(.23,.75,\"Train\",size=60)\n",
    "fig.text(.67,.75,\"Test\",size=60)\n",
    "\n",
    "\n",
    "fig.legend(prop={'size': 40},loc=\"upper left\",bbox_to_anchor=(1,1));                  \n",
    "\n",
    "fig.tight_layout()\n",
    "#ax.grid(True)"
   ]
  },
  {
   "cell_type": "code",
   "execution_count": null,
   "id": "3d96c931",
   "metadata": {},
   "outputs": [],
   "source": [
    "S = slm_utils.slm(sigma=params[\"sigma\"],K=params[\"K\"],tau=1,delta_t=1/100)\n",
    "dates_diff = dates.diff()"
   ]
  },
  {
   "cell_type": "markdown",
   "id": "02a9d0b8",
   "metadata": {},
   "source": [
    "Now that we've calculated $\\sigma$ and $K$, let's see how the quintile binning scheme works, starting at timepoint 0. \n",
    "\n",
    "Here are the observed abundances at timepoint 0 and 1:"
   ]
  },
  {
   "cell_type": "code",
   "execution_count": null,
   "id": "b88646c8",
   "metadata": {},
   "outputs": [],
   "source": [
    "fig,ax = plt.subplots(figsize=(12,8))\n",
    "ax.scatter(dates[:2].values,obs_data[:2],s=100,color=\"green\")\n",
    "ax.plot(dates[:2].values,obs_data[:2],ls=\"--\",color=\"green\")\n",
    "#ax.set_ylim([0.005,0.015])\n",
    "ax.set_xlabel(\"Time\",size=20)"
   ]
  },
  {
   "cell_type": "markdown",
   "id": "7ca320db",
   "metadata": {},
   "source": [
    "Now, starting at timepoint 0, we simulate the SLM until timepoint 1 a total of 10,000 times.\n",
    "\n",
    "Let's see what these final values (in blue) look like:"
   ]
  },
  {
   "cell_type": "code",
   "execution_count": null,
   "id": "df277d65",
   "metadata": {},
   "outputs": [],
   "source": [
    "i = 0\n",
    "T = dates_diff[i+1]\n",
    "num_iters = int(T/(S.delta_t))\n",
    "\n",
    "init_val = obs_data.iloc[i]\n",
    "num_reps = 10000\n",
    "S.set_init_val(obs_data.iloc[i])\n",
    "S.run_sim(num_iters,num_reps,record_steps=False)"
   ]
  },
  {
   "cell_type": "code",
   "execution_count": null,
   "id": "22fc558c",
   "metadata": {},
   "outputs": [],
   "source": [
    "fig,ax = plt.subplots(figsize=(12,8))\n",
    "ax.scatter(dates[:2].values,obs_data[:2],s=100,color=\"green\")\n",
    "ax.plot(dates[:2].values,obs_data[:2],ls=\"--\",color=\"green\",zorder=10)\n",
    "ax.scatter(dates[1]*np.ones(num_reps),S.x_i,color=\"blue\",alpha=.002)\n",
    "#ax.set_ylim([0.005,0.015])\n",
    "ax.set_xlabel(\"Time\",size=20)"
   ]
  },
  {
   "cell_type": "markdown",
   "id": "671c8f4d",
   "metadata": {},
   "source": [
    "Let's try plotting the true and simulated final values as a histogram:"
   ]
  },
  {
   "cell_type": "code",
   "execution_count": null,
   "id": "c6dd9be6",
   "metadata": {},
   "outputs": [],
   "source": [
    "fig,ax = plt.subplots(figsize=(12,8))\n",
    "ax.hist(S.x_i,bins=50,alpha=.3,label=\"SLM simulations\");\n",
    "ax.axvline(obs_data.iloc[i+1],color=\"green\",lw=4,label=\"Observed\");\n",
    "ax.axvline(E_t(S.K,init_val,T,S.tau),color=\"k\",ls=\"--\",lw=4,zorder=5,label=\"Expected\")\n",
    "ax.legend()"
   ]
  },
  {
   "cell_type": "markdown",
   "id": "81814067",
   "metadata": {},
   "source": [
    "Now, we're going to divide the simulated distribution into 38 quintiles. In general, it's better to have more quintiles, but the number of quintiles we can use is going to depend on the length of the time series. Longer time series allow us to still perform meaningful statistical tests with a larger number of quintiles (the rule I've seen recommended is # of observations/# quintiles > 5)"
   ]
  },
  {
   "cell_type": "code",
   "execution_count": null,
   "id": "609ea88b",
   "metadata": {},
   "outputs": [],
   "source": [
    "quins = np.quantile(S.x_i,np.linspace(0,1,quin_bins))\n",
    "\n",
    "quin_bins"
   ]
  },
  {
   "cell_type": "code",
   "execution_count": null,
   "id": "df7a8f3f",
   "metadata": {},
   "outputs": [],
   "source": [
    "np.digitize(100,np.quantile(S.x_i,np.linspace(0,1,quin_bins)))"
   ]
  },
  {
   "cell_type": "code",
   "execution_count": null,
   "id": "c22e82e5",
   "metadata": {},
   "outputs": [],
   "source": [
    "fig,ax = plt.subplots(figsize=(12,8))\n",
    "ax.hist(S.x_i,bins=50,alpha=.3);\n",
    "\n",
    "quin_bins = len(obs_data)//4\n",
    "\n",
    "quins = np.quantile(S.x_i,np.linspace(0,1,quin_bins))\n",
    "\n",
    "ax.axvline(quins[0],lw=.25,color=\"k\",label=\"Quintiles\")\n",
    "for q in quins:\n",
    "    ax.axvline(q,lw=.25,color=\"k\")\n",
    "\n",
    "binn = np.digitize(obs_data.iloc[i+1],np.quantile(S.x_i,np.linspace(0,1,quin_bins)))\n",
    "ax.axvline(obs_data.iloc[i+1],color=\"green\",lw=1,label=\"Observed\");\n",
    "\n",
    "#ax.axvspan(quins[binn],quins[binn+1],color=\"green\",zorder=1,label=\"Observed\")\n",
    "\n",
    "ax.legend();"
   ]
  },
  {
   "cell_type": "markdown",
   "id": "ffc35d91",
   "metadata": {},
   "source": [
    "The observed data point at time 1 falls into one of these quintiles, shown in green:"
   ]
  },
  {
   "cell_type": "code",
   "execution_count": null,
   "id": "dfc7cf48",
   "metadata": {},
   "outputs": [],
   "source": [
    "fig,ax = plt.subplots(figsize=(12,8))\n",
    "ax.hist(S.x_i,bins=50,alpha=.3);\n",
    "\n",
    "quin_bins = len(obs_data)//4\n",
    "\n",
    "quins = np.quantile(S.x_i,np.linspace(0,1,quin_bins))\n",
    "\n",
    "ax.axvline(quins[0],lw=.25,color=\"k\",label=\"Quintiles\")\n",
    "for q in quins:\n",
    "    ax.axvline(q,lw=.25,color=\"k\")\n",
    "\n",
    "binn = np.digitize(obs_data.iloc[i+1],np.quantile(S.x_i,np.linspace(0,1,quin_bins)))\n",
    "\n",
    "ax.axvspan(quins[binn-1],quins[binn],color=\"green\",zorder=1,label=\"Observed quintile\")\n",
    "\n",
    "ax.legend();"
   ]
  },
  {
   "cell_type": "markdown",
   "id": "eb92078a",
   "metadata": {},
   "source": [
    "Now, let's try the next pair of timepoints:"
   ]
  },
  {
   "cell_type": "code",
   "execution_count": null,
   "id": "f01bf990",
   "metadata": {},
   "outputs": [],
   "source": [
    "i = 1\n",
    "T = dates_diff[i+1]\n",
    "num_iters = int(T/(S.delta_t))\n",
    "\n",
    "init_val = obs_data.iloc[i]\n",
    "num_reps = 100000\n",
    "S.set_init_val(obs_data.iloc[i])\n",
    "S.run_sim(num_iters,num_reps,record_steps=False)\n",
    "\n",
    "xx=[E_t(S.K,init_val,t,S.tau) for t in np.linspace(0,T,num_iters)]"
   ]
  },
  {
   "cell_type": "code",
   "execution_count": null,
   "id": "ebfa785e",
   "metadata": {},
   "outputs": [],
   "source": [
    "fig,ax = plt.subplots(figsize=(12,8))\n",
    "ax.hist(S.x_i,bins=50,alpha=.3,label=\"SLM simulations\");\n",
    "ax.axvline(obs_data.iloc[i+1],color=\"green\",lw=4,label=\"Observed\");\n",
    "ax.legend()"
   ]
  },
  {
   "cell_type": "code",
   "execution_count": null,
   "id": "0b6a3b0e",
   "metadata": {},
   "outputs": [],
   "source": [
    "fig,ax = plt.subplots(figsize=(12,8))\n",
    "ax.hist(S.x_i,bins=50,alpha=.3);\n",
    "\n",
    "quins = np.quantile(S.x_i,np.linspace(0,1,quin_bins))\n",
    "\n",
    "ax.axvline(quins[0],lw=.25,color=\"k\",label=\"Quintiles\")\n",
    "for q in quins:\n",
    "    ax.axvline(q,lw=.25,color=\"k\")\n",
    "\n",
    "binn = np.digitize(obs_data.iloc[i+1],np.quantile(S.x_i,np.linspace(0,1,quin_bins)))\n",
    "\n",
    "ax.legend();"
   ]
  },
  {
   "cell_type": "code",
   "execution_count": null,
   "id": "4feeed57",
   "metadata": {},
   "outputs": [],
   "source": [
    "fig,ax = plt.subplots(figsize=(12,8))\n",
    "ax.hist(S.x_i,bins=50,alpha=.3);\n",
    "\n",
    "quins = np.quantile(S.x_i,np.linspace(0,1,quin_bins))\n",
    "\n",
    "ax.axvline(quins[0],lw=.25,color=\"k\",label=\"Quintiles\")\n",
    "for q in quins:\n",
    "    ax.axvline(q,lw=.25,color=\"k\")\n",
    "\n",
    "binn = np.digitize(obs_data.iloc[i+1],np.quantile(S.x_i,np.linspace(0,1,quin_bins)))\n",
    "\n",
    "ax.axvspan(quins[binn-1],quins[binn],color=\"green\",zorder=1,label=\"Observed quintile\",alpha=.2)\n",
    "ax.axvline(obs_data.iloc[i+1],color=\"green\",lw=4,label=\"Observed\");\n",
    "\n",
    "ax.legend();"
   ]
  },
  {
   "cell_type": "markdown",
   "id": "ffea5a75",
   "metadata": {},
   "source": [
    "Now, we simply repeate this procedure for every pair of timepoints. Under the null hypothesis, we should see a roughly equal number of points in each bin. Again, this is because the quintiles are equally probable outcomes at each successive timepoint."
   ]
  },
  {
   "cell_type": "code",
   "execution_count": null,
   "id": "f4d9ea5c",
   "metadata": {},
   "outputs": [],
   "source": [
    "import time"
   ]
  },
  {
   "cell_type": "code",
   "execution_count": null,
   "id": "28b1d029",
   "metadata": {},
   "outputs": [],
   "source": [
    "Y = []\n",
    "t1 = time.time()\n",
    "quin_bins = len(obs_data)//4\n",
    "bin_list = []\n",
    "for i in range(len(obs_data) - 1):\n",
    "    T = dates_diff[i+1]\n",
    "    num_iters = int(T/(S.delta_t))\n",
    "\n",
    "    init_val = obs_data.iloc[i]\n",
    "    num_reps = 1000\n",
    "    S.set_init_val(obs_data.iloc[i])\n",
    "    S.run_sim(num_iters,num_reps,record_steps=False)\n",
    "    Y.append(S.x_i)\n",
    "    #bin_list.append(np.digitize(obs_data.iloc[i+1],np.percentile(S.x_i,np.linspace(0,100,quin_bins))))\n",
    "    \n",
    "    \n",
    "#     if i % 10 == 0:\n",
    "#         print(1.0*i/(len(obs_data) - 1))\n",
    "#         t2 = time.time()\n",
    "#         print(t2 - t1)\n",
    "        \n",
    "t2 = time.time()\n",
    "     \n",
    "print(t2 - t1)"
   ]
  },
  {
   "cell_type": "code",
   "execution_count": null,
   "id": "6a603add",
   "metadata": {},
   "outputs": [],
   "source": [
    "i = 3\n",
    "plt.hist(Y[i]);\n",
    "plt.axvline(obs_data.iloc[i+1],zorder=10,color=\"red\");\n"
   ]
  },
  {
   "cell_type": "code",
   "execution_count": null,
   "id": "19b46ae4",
   "metadata": {},
   "outputs": [],
   "source": [
    "fig,ax = plt.subplots(figsize=(12,8))\n",
    "ax.plot([y[:100] for y in Y],color=\"blue\",alpha=.2);\n",
    "ax.plot(obs_data.values[1:],color=\"red\",lw=3)\n",
    "ax.semilogy();"
   ]
  },
  {
   "cell_type": "code",
   "execution_count": null,
   "id": "2cb38062",
   "metadata": {},
   "outputs": [],
   "source": [
    "x=[]\n",
    "for i in range(len(Y)):\n",
    "    x.append(stats.percentileofscore(Y[i], obs_data.iloc[i+1]))\n",
    "\n",
    "chisquare(np.histogram(x,bins=len(x)//6)[0])[1]"
   ]
  },
  {
   "cell_type": "code",
   "execution_count": null,
   "id": "81e3e1b1",
   "metadata": {},
   "outputs": [],
   "source": [
    "plt.hist(x,bins=len(x)//5)"
   ]
  },
  {
   "cell_type": "code",
   "execution_count": null,
   "id": "b15961e3",
   "metadata": {},
   "outputs": [],
   "source": [
    "chisquare(np.histogram(x,bins=25)[0],ddof = 1)"
   ]
  },
  {
   "cell_type": "code",
   "execution_count": null,
   "id": "1116257c",
   "metadata": {},
   "outputs": [],
   "source": [
    "x=[]\n",
    "for i in range(len(Y)):\n",
    "    x.append(stats.percentileofscore(Y[i], obs_data.iloc[i+1])/100)\n"
   ]
  },
  {
   "cell_type": "code",
   "execution_count": null,
   "id": "9023c063",
   "metadata": {},
   "outputs": [],
   "source": [
    "np.histogram(x,bins=40)"
   ]
  },
  {
   "cell_type": "code",
   "execution_count": null,
   "id": "9b332950",
   "metadata": {},
   "outputs": [],
   "source": [
    "plt.hist(stats.uniform.rvs(size=192))\n",
    "plt.hist(x,alpha=.3);"
   ]
  },
  {
   "cell_type": "code",
   "execution_count": null,
   "id": "8c84662d",
   "metadata": {},
   "outputs": [],
   "source": [
    "H=np.histogram(x,bins=35)\n",
    "plt.scatter(H[1][1:],H[0])"
   ]
  },
  {
   "cell_type": "code",
   "execution_count": null,
   "id": "c3d3ef3c",
   "metadata": {},
   "outputs": [],
   "source": [
    "x"
   ]
  },
  {
   "cell_type": "code",
   "execution_count": null,
   "id": "0a158f2f",
   "metadata": {},
   "outputs": [],
   "source": [
    "stats.kstest(x,cdf='uniform')"
   ]
  },
  {
   "cell_type": "code",
   "execution_count": null,
   "id": "ca6129a6",
   "metadata": {},
   "outputs": [],
   "source": [
    "plt.hist(S.x_i,bins=25)\n",
    "plt.axvline(obs_data.iloc[i+1],zorder=10,color=\"red\");\n",
    "for x in np.percentile(S.x_i,np.linspace(0,100,quin_bins)):\n",
    "    plt.axvline(x,color=\"k\")"
   ]
  },
  {
   "cell_type": "code",
   "execution_count": null,
   "id": "0eda34a9",
   "metadata": {},
   "outputs": [],
   "source": [
    "obs_data.iloc[i+1]"
   ]
  },
  {
   "cell_type": "markdown",
   "id": "aa02f4a7",
   "metadata": {},
   "source": [
    "I've chosen the number of bins (38) so that we should expect to see 5 timepoint pairs fall in each quintile under the null hypothesis. Here is the true distribution:"
   ]
  },
  {
   "cell_type": "code",
   "execution_count": null,
   "id": "9c8048b4",
   "metadata": {},
   "outputs": [],
   "source": [
    "Y = np.unique(bin_list,return_counts=True)\n",
    "fig,ax = plt.subplots(figsize=(12,8))\n",
    "ax.scatter(Y[0],Y[1],zorder=10,s=50)\n",
    "#ax.set_ylim([0,15])\n",
    "ax.set_ylabel(\"Count\",size=20)\n",
    "ax.set_xlabel(\"Quintile\",size=20)\n",
    "ax.axhline(5,color=\"k\",ls=\"--\",zorder=1)"
   ]
  },
  {
   "cell_type": "markdown",
   "id": "ef256db1",
   "metadata": {},
   "source": [
    "And now, we can determine whether the observed quintile distribution matches what we expect (i.e. equal chance in each bin) using a $\\chi^2$ test. The p-value from this test is:"
   ]
  },
  {
   "cell_type": "code",
   "execution_count": null,
   "id": "9ca400c3",
   "metadata": {},
   "outputs": [],
   "source": [
    "chisquare(np.histogram(x,bins=30)[0])[1]"
   ]
  },
  {
   "cell_type": "code",
   "execution_count": null,
   "id": "c422bdec",
   "metadata": {},
   "outputs": [],
   "source": [
    "np.histogram(x,bins=5)"
   ]
  },
  {
   "cell_type": "markdown",
   "id": "dc4552df",
   "metadata": {},
   "source": [
    "So, we accept the null hypothesis that the SLM generated the data!"
   ]
  },
  {
   "cell_type": "code",
   "execution_count": null,
   "id": "7757da97",
   "metadata": {},
   "outputs": [],
   "source": [
    "from scipy import stats\n"
   ]
  },
  {
   "cell_type": "code",
   "execution_count": null,
   "id": "bbc67e57",
   "metadata": {},
   "outputs": [],
   "source": [
    "np.unique(bin_list,return_counts=True)[1]"
   ]
  },
  {
   "cell_type": "code",
   "execution_count": null,
   "id": "26672328",
   "metadata": {},
   "outputs": [],
   "source": [
    "np.unique(bin_list,return_counts=True)[0]/62"
   ]
  },
  {
   "cell_type": "code",
   "execution_count": null,
   "id": "aa75ca97",
   "metadata": {},
   "outputs": [],
   "source": [
    "stats.kstest(np.unique(bin_list,return_counts=True)[1],cdf='uniform')"
   ]
  },
  {
   "cell_type": "code",
   "execution_count": null,
   "id": "855219e9",
   "metadata": {},
   "outputs": [],
   "source": [
    "np.unique(bin_list,return_counts=True)[0]"
   ]
  },
  {
   "cell_type": "code",
   "execution_count": null,
   "id": "f47b5a60",
   "metadata": {},
   "outputs": [],
   "source": [
    "plt.hist(np.unique(bin_list,return_counts=True)[1]/10)"
   ]
  },
  {
   "cell_type": "code",
   "execution_count": null,
   "id": "ff31a3a0",
   "metadata": {},
   "outputs": [],
   "source": [
    "np.digitize(.15,np.quantile(S.x_i,np.linspace(0,1,quin_bins)))"
   ]
  },
  {
   "cell_type": "code",
   "execution_count": null,
   "id": "e47e2dab",
   "metadata": {},
   "outputs": [],
   "source": [
    "from parse_midas_data import parse_good_species_list\n"
   ]
  },
  {
   "cell_type": "code",
   "execution_count": null,
   "id": "239788e8",
   "metadata": {},
   "outputs": [],
   "source": [
    "good_species = parse_good_species_list()\n"
   ]
  },
  {
   "cell_type": "code",
   "execution_count": null,
   "id": "8480eb2c",
   "metadata": {},
   "outputs": [],
   "source": [
    "strain_df = pd.read_csv(\"strains_%s.csv\" % config.host,index_col=0)\n",
    "species_list = list(set([s[:-2] for s in strain_df.index]))\n",
    "spec_df = pd.read_csv(\"%sspecies/relative_abundance.txt.bz2\" % data_dir,index_col=0,sep=\"\\t\")"
   ]
  },
  {
   "cell_type": "code",
   "execution_count": null,
   "id": "15159057",
   "metadata": {},
   "outputs": [],
   "source": [
    "data_dir = config.data_directory\n",
    "dates = config.dates\n",
    "\n",
    "ddd = {}\n",
    "num_reps = 1000\n",
    "for strain in strain_df.index:\n",
    "    obs_data = strain_df.loc[strain]\n",
    "    obs_data = obs_data[obs_data.notna()]\n",
    "    train_num = int(len(obs_data)/2.0) - 1\n",
    "    params = slm_utils.fit_SLM_params(obs_data,n=train_num)\n",
    "\n",
    "    S = slm_utils.slm(sigma=params[\"sigma\"],K=params[\"K\"],tau=1,delta_t=1.0/100)\n",
    "\n",
    "    dates = config.dates\n",
    "    dates = dates.loc[obs_data.index]\n",
    "    dates_diff = dates.diff()\n",
    "    \n",
    "    Y = []\n",
    "    bin_list = []\n",
    "    for i in range(len(obs_data) - 1):\n",
    "        \n",
    "        T = dates_diff.iloc[i+1]\n",
    "        num_iters = int(T/(S.delta_t))\n",
    "\n",
    "        init_val = obs_data.iloc[i]\n",
    "        \n",
    "        S.set_init_val(init_val)\n",
    "        S.run_sim(num_iters,num_reps,record_steps=False)\n",
    "        Y.append(S.x_i)\n",
    "\n",
    "    x=[]\n",
    "    for i in range(len(Y)):\n",
    "        x.append(stats.percentileofscore(Y[i], obs_data.iloc[i+1]))\n",
    "\n",
    "    print((strain,int(len(x)/5.0)))\n",
    "    print(chisquare(np.histogram(x,bins=int(len(x)/5.0))[0])[1])\n",
    "    ddd[strain] = chisquare(np.histogram(x,bins=int(len(x)/5.0))[0])[1]"
   ]
  },
  {
   "cell_type": "code",
   "execution_count": null,
   "id": "7216ab1e",
   "metadata": {},
   "outputs": [],
   "source": [
    "(pd.Series(ddd) > .05).mean()"
   ]
  },
  {
   "cell_type": "code",
   "execution_count": null,
   "id": "635a2961",
   "metadata": {},
   "outputs": [],
   "source": [
    "plt.plot(strain_df.loc[\"Faecalibacterium_prausnitzii_61481_A\"].values)\n",
    "plt.plot(strain_df.loc[\"Faecalibacterium_prausnitzii_61481_B\"].values)"
   ]
  },
  {
   "cell_type": "code",
   "execution_count": null,
   "id": "438c7ce8",
   "metadata": {},
   "outputs": [],
   "source": [
    "pd.Series(ddd).to_csv(\"~/strain_stability_revisions/strainstability/analysis/chisq/Poyet/%s_strain_chisq_test_cross.txt\" % (config.host))"
   ]
  },
  {
   "cell_type": "code",
   "execution_count": null,
   "id": "7ae8669b",
   "metadata": {},
   "outputs": [],
   "source": [
    "sss = {}\n",
    "\n",
    "for species in good_species:\n",
    "    obs_data = spec_df.loc[species]\n",
    "    obs_data_strain = strain_df.loc[\"%s_A\" % species]\n",
    "    obs_data = obs_data[obs_data_strain.notna()]\n",
    "    \n",
    "    train_num = int(2*len(obs_data)/3.0)\n",
    "    params = slm_utils.fit_SLM_params(obs_data,n=train_num)\n",
    "\n",
    "    S = slm_utils.slm(sigma=params[\"sigma\"],K=params[\"K\"],tau=1,delta_t=1.0/100)\n",
    "\n",
    "    Y = []\n",
    "    bin_list = []\n",
    "    \n",
    "    ### return date differences\n",
    "    dates = config.dates\n",
    "    dates = dates.loc[obs_data.index]\n",
    "    dates_diff = dates.diff()\n",
    "\n",
    "    ### run simulations\n",
    "    for i in range(len(obs_data) - 1):\n",
    "        \n",
    "        T = dates_diff.iloc[i+1]\n",
    "        num_iters = int(T/(S.delta_t))\n",
    "\n",
    "        init_val = obs_data.iloc[i]\n",
    "        S.set_init_val(obs_data.iloc[i])\n",
    "        S.run_sim(num_iters,num_reps,record_steps=False)\n",
    "        Y.append(S.x_i)\n",
    "\n",
    "    ### now calculate the percentile of the data w/r/t to the simulations\n",
    "    x=[]\n",
    "    for i in range(len(Y)):\n",
    "        x.append(stats.percentileofscore(Y[i], obs_data.iloc[i+1]))\n",
    "\n",
    "    print(species)\n",
    "    print(chisquare(np.histogram(x,bins=int(len(x)/7.0))[0])[1])\n",
    "    sss[species] = chisquare(np.histogram(x,bins=int(len(x)/7.0))[0])[1]"
   ]
  },
  {
   "cell_type": "code",
   "execution_count": null,
   "id": "932833a0",
   "metadata": {},
   "outputs": [],
   "source": [
    "sss"
   ]
  },
  {
   "cell_type": "code",
   "execution_count": null,
   "id": "a0ac2859",
   "metadata": {},
   "outputs": [],
   "source": [
    "pd.Series(sss).to_csv(\"~/strain_stability_revisions/strainstability/analysis/chisq/Poyet/%s_strain_chisq_test_cross.txt\" % (config.host))"
   ]
  }
 ],
 "metadata": {
  "kernelspec": {
   "display_name": "LD_env",
   "language": "python",
   "name": "ld_env"
  },
  "language_info": {
   "codemirror_mode": {
    "name": "ipython",
    "version": 2
   },
   "file_extension": ".py",
   "mimetype": "text/x-python",
   "name": "python",
   "nbconvert_exporter": "python",
   "pygments_lexer": "ipython2",
   "version": "2.7.16"
  }
 },
 "nbformat": 4,
 "nbformat_minor": 5
}
